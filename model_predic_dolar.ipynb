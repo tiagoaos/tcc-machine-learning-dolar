{
  "nbformat": 4,
  "nbformat_minor": 0,
  "metadata": {
    "colab": {
      "name": "model_predic_dolar.ipynb",
      "provenance": [],
      "collapsed_sections": [],
      "authorship_tag": "ABX9TyPKsdIi5MxI1DPo06HiOvMe",
      "include_colab_link": true
    },
    "kernelspec": {
      "name": "python3",
      "display_name": "Python 3"
    },
    "language_info": {
      "name": "python"
    }
  },
  "cells": [
    {
      "cell_type": "markdown",
      "metadata": {
        "id": "view-in-github",
        "colab_type": "text"
      },
      "source": [
        "<a href=\"https://colab.research.google.com/github/tiagoaos/tcc-machine-learning-dolar/blob/main/model_predic_dolar.ipynb\" target=\"_parent\"><img src=\"https://colab.research.google.com/assets/colab-badge.svg\" alt=\"Open In Colab\"/></a>"
      ]
    },
    {
      "cell_type": "code",
      "metadata": {
        "id": "HlNTqoQlwMwq",
        "colab": {
          "base_uri": "https://localhost:8080/"
        },
        "outputId": "68ac79e7-55b1-4b83-aa0b-0cb26c13d323"
      },
      "source": [
        " \n",
        "import pandas as pd\n",
        "import numpy as np\n",
        "from sklearn.naive_bayes import MultinomialNB, ComplementNB\n",
        "from sklearn.feature_extraction.text import CountVectorizer\n",
        "from sklearn.pipeline import Pipeline\n",
        "from sklearn import svm\n",
        "from sklearn.metrics import confusion_matrix, f1_score, classification_report, accuracy_score, roc_curve, auc\n",
        "from sklearn.model_selection import train_test_split\n",
        "from sklearn.externals import joblib\n",
        " \n",
        "import matplotlib.pyplot as plt\n",
        "import seaborn as sns\n",
        "!pip install texthero\n",
        "import texthero as hero\n",
        "from datetime import datetime\n",
        "from nltk.corpus import stopwords\n",
        "import nltk\n",
        "import pickle"
      ],
      "execution_count": null,
      "outputs": [
        {
          "output_type": "stream",
          "text": [
            "/usr/local/lib/python3.7/dist-packages/sklearn/externals/joblib/__init__.py:15: FutureWarning: sklearn.externals.joblib is deprecated in 0.21 and will be removed in 0.23. Please import this functionality directly from joblib, which can be installed with: pip install joblib. If this warning is raised when loading pickled models, you may need to re-serialize those models with scikit-learn 0.21+.\n",
            "  warnings.warn(msg, category=FutureWarning)\n"
          ],
          "name": "stderr"
        },
        {
          "output_type": "stream",
          "text": [
            "Collecting texthero\n",
            "  Downloading https://files.pythonhosted.org/packages/1f/5a/a9d33b799fe53011de79d140ad6d86c440a2da1ae8a7b24e851ee2f8bde8/texthero-1.0.9-py3-none-any.whl\n",
            "Requirement already satisfied: tqdm>=4.3 in /usr/local/lib/python3.7/dist-packages (from texthero) (4.41.1)\n",
            "Requirement already satisfied: plotly>=4.2.0 in /usr/local/lib/python3.7/dist-packages (from texthero) (4.4.1)\n",
            "Requirement already satisfied: wordcloud>=1.5.0 in /usr/local/lib/python3.7/dist-packages (from texthero) (1.5.0)\n",
            "Requirement already satisfied: pandas>=1.0.2 in /usr/local/lib/python3.7/dist-packages (from texthero) (1.1.5)\n",
            "Requirement already satisfied: scikit-learn>=0.22 in /usr/local/lib/python3.7/dist-packages (from texthero) (0.22.2.post1)\n",
            "Requirement already satisfied: numpy>=1.17 in /usr/local/lib/python3.7/dist-packages (from texthero) (1.19.5)\n",
            "Collecting nltk>=3.3\n",
            "\u001b[?25l  Downloading https://files.pythonhosted.org/packages/8c/1c/c0981ef85165eb739c10f2b24d7729cef066b2bc220fbd1dd0d3c67df39a/nltk-3.6.1-py3-none-any.whl (1.5MB)\n",
            "\u001b[K     |████████████████████████████████| 1.5MB 6.7MB/s \n",
            "\u001b[?25hCollecting unidecode>=1.1.1\n",
            "\u001b[?25l  Downloading https://files.pythonhosted.org/packages/9e/25/723487ca2a52ebcee88a34d7d1f5a4b80b793f179ee0f62d5371938dfa01/Unidecode-1.2.0-py2.py3-none-any.whl (241kB)\n",
            "\u001b[K     |████████████████████████████████| 245kB 18.7MB/s \n",
            "\u001b[?25hRequirement already satisfied: gensim>=3.6.0 in /usr/local/lib/python3.7/dist-packages (from texthero) (3.6.0)\n",
            "Requirement already satisfied: matplotlib>=3.1.0 in /usr/local/lib/python3.7/dist-packages (from texthero) (3.2.2)\n",
            "Requirement already satisfied: spacy>=2.2.2 in /usr/local/lib/python3.7/dist-packages (from texthero) (2.2.4)\n",
            "Requirement already satisfied: six in /usr/local/lib/python3.7/dist-packages (from plotly>=4.2.0->texthero) (1.15.0)\n",
            "Requirement already satisfied: retrying>=1.3.3 in /usr/local/lib/python3.7/dist-packages (from plotly>=4.2.0->texthero) (1.3.3)\n",
            "Requirement already satisfied: pillow in /usr/local/lib/python3.7/dist-packages (from wordcloud>=1.5.0->texthero) (7.1.2)\n",
            "Requirement already satisfied: pytz>=2017.2 in /usr/local/lib/python3.7/dist-packages (from pandas>=1.0.2->texthero) (2018.9)\n",
            "Requirement already satisfied: python-dateutil>=2.7.3 in /usr/local/lib/python3.7/dist-packages (from pandas>=1.0.2->texthero) (2.8.1)\n",
            "Requirement already satisfied: scipy>=0.17.0 in /usr/local/lib/python3.7/dist-packages (from scikit-learn>=0.22->texthero) (1.4.1)\n",
            "Requirement already satisfied: joblib>=0.11 in /usr/local/lib/python3.7/dist-packages (from scikit-learn>=0.22->texthero) (1.0.1)\n",
            "Requirement already satisfied: regex in /usr/local/lib/python3.7/dist-packages (from nltk>=3.3->texthero) (2019.12.20)\n",
            "Requirement already satisfied: click in /usr/local/lib/python3.7/dist-packages (from nltk>=3.3->texthero) (7.1.2)\n",
            "Requirement already satisfied: smart-open>=1.2.1 in /usr/local/lib/python3.7/dist-packages (from gensim>=3.6.0->texthero) (4.2.0)\n",
            "Requirement already satisfied: pyparsing!=2.0.4,!=2.1.2,!=2.1.6,>=2.0.1 in /usr/local/lib/python3.7/dist-packages (from matplotlib>=3.1.0->texthero) (2.4.7)\n",
            "Requirement already satisfied: kiwisolver>=1.0.1 in /usr/local/lib/python3.7/dist-packages (from matplotlib>=3.1.0->texthero) (1.3.1)\n",
            "Requirement already satisfied: cycler>=0.10 in /usr/local/lib/python3.7/dist-packages (from matplotlib>=3.1.0->texthero) (0.10.0)\n",
            "Requirement already satisfied: setuptools in /usr/local/lib/python3.7/dist-packages (from spacy>=2.2.2->texthero) (54.2.0)\n",
            "Requirement already satisfied: preshed<3.1.0,>=3.0.2 in /usr/local/lib/python3.7/dist-packages (from spacy>=2.2.2->texthero) (3.0.5)\n",
            "Requirement already satisfied: wasabi<1.1.0,>=0.4.0 in /usr/local/lib/python3.7/dist-packages (from spacy>=2.2.2->texthero) (0.8.2)\n",
            "Requirement already satisfied: blis<0.5.0,>=0.4.0 in /usr/local/lib/python3.7/dist-packages (from spacy>=2.2.2->texthero) (0.4.1)\n",
            "Requirement already satisfied: thinc==7.4.0 in /usr/local/lib/python3.7/dist-packages (from spacy>=2.2.2->texthero) (7.4.0)\n",
            "Requirement already satisfied: catalogue<1.1.0,>=0.0.7 in /usr/local/lib/python3.7/dist-packages (from spacy>=2.2.2->texthero) (1.0.0)\n",
            "Requirement already satisfied: plac<1.2.0,>=0.9.6 in /usr/local/lib/python3.7/dist-packages (from spacy>=2.2.2->texthero) (1.1.3)\n",
            "Requirement already satisfied: murmurhash<1.1.0,>=0.28.0 in /usr/local/lib/python3.7/dist-packages (from spacy>=2.2.2->texthero) (1.0.5)\n",
            "Requirement already satisfied: srsly<1.1.0,>=1.0.2 in /usr/local/lib/python3.7/dist-packages (from spacy>=2.2.2->texthero) (1.0.5)\n",
            "Requirement already satisfied: cymem<2.1.0,>=2.0.2 in /usr/local/lib/python3.7/dist-packages (from spacy>=2.2.2->texthero) (2.0.5)\n",
            "Requirement already satisfied: requests<3.0.0,>=2.13.0 in /usr/local/lib/python3.7/dist-packages (from spacy>=2.2.2->texthero) (2.23.0)\n",
            "Requirement already satisfied: importlib-metadata>=0.20; python_version < \"3.8\" in /usr/local/lib/python3.7/dist-packages (from catalogue<1.1.0,>=0.0.7->spacy>=2.2.2->texthero) (3.8.1)\n",
            "Requirement already satisfied: urllib3!=1.25.0,!=1.25.1,<1.26,>=1.21.1 in /usr/local/lib/python3.7/dist-packages (from requests<3.0.0,>=2.13.0->spacy>=2.2.2->texthero) (1.24.3)\n",
            "Requirement already satisfied: certifi>=2017.4.17 in /usr/local/lib/python3.7/dist-packages (from requests<3.0.0,>=2.13.0->spacy>=2.2.2->texthero) (2020.12.5)\n",
            "Requirement already satisfied: idna<3,>=2.5 in /usr/local/lib/python3.7/dist-packages (from requests<3.0.0,>=2.13.0->spacy>=2.2.2->texthero) (2.10)\n",
            "Requirement already satisfied: chardet<4,>=3.0.2 in /usr/local/lib/python3.7/dist-packages (from requests<3.0.0,>=2.13.0->spacy>=2.2.2->texthero) (3.0.4)\n",
            "Requirement already satisfied: typing-extensions>=3.6.4; python_version < \"3.8\" in /usr/local/lib/python3.7/dist-packages (from importlib-metadata>=0.20; python_version < \"3.8\"->catalogue<1.1.0,>=0.0.7->spacy>=2.2.2->texthero) (3.7.4.3)\n",
            "Requirement already satisfied: zipp>=0.5 in /usr/local/lib/python3.7/dist-packages (from importlib-metadata>=0.20; python_version < \"3.8\"->catalogue<1.1.0,>=0.0.7->spacy>=2.2.2->texthero) (3.4.1)\n",
            "Installing collected packages: nltk, unidecode, texthero\n",
            "  Found existing installation: nltk 3.2.5\n",
            "    Uninstalling nltk-3.2.5:\n",
            "      Successfully uninstalled nltk-3.2.5\n",
            "Successfully installed nltk-3.6.1 texthero-1.0.9 unidecode-1.2.0\n"
          ],
          "name": "stdout"
        },
        {
          "output_type": "stream",
          "text": [
            "[nltk_data] Downloading package stopwords to /root/nltk_data...\n",
            "[nltk_data]   Unzipping corpora/stopwords.zip.\n"
          ],
          "name": "stderr"
        }
      ]
    },
    {
      "cell_type": "code",
      "metadata": {
        "id": "_3jwrF3SyzEI",
        "colab": {
          "base_uri": "https://localhost:8080/"
        },
        "outputId": "c5aa5f26-2c5c-4d7d-cff3-ab723d5478fc"
      },
      "source": [
        "from google.colab import drive\n",
        "drive.mount('/content/drive')"
      ],
      "execution_count": null,
      "outputs": [
        {
          "output_type": "stream",
          "text": [
            "Mounted at /content/drive\n"
          ],
          "name": "stdout"
        }
      ]
    },
    {
      "cell_type": "code",
      "metadata": {
        "id": "5JWmVmqzzHFc"
      },
      "source": [
        "df = pd.read_csv('/content/drive/MyDrive/ai/medianews/0dolar2020-11-01,2021-03-242.csv')\n",
        "df2 = pd.read_csv('/content/drive/MyDrive/ai/medianews/100dolar2020-11-01,2021-03-242.csv')\n",
        "df3 = pd.read_csv('/content/drive/MyDrive/ai/medianews/200dolar2020-11-01,2021-03-242.csv')\n"
      ],
      "execution_count": null,
      "outputs": []
    },
    {
      "cell_type": "code",
      "metadata": {
        "id": "m1ZJcm5gZtCo"
      },
      "source": [
        "merge de dataset separados de noticias"
      ],
      "execution_count": null,
      "outputs": []
    },
    {
      "cell_type": "code",
      "metadata": {
        "id": "VZ1eh7UZyqAl",
        "colab": {
          "base_uri": "https://localhost:8080/"
        },
        "outputId": "26b048d3-b8eb-490f-b5dc-2155ac32c96c"
      },
      "source": [
        "frames = [df, df2, df3]\n",
        "pd_text = pd.concat(frames)\n",
        "pd_text.rename(columns = {\"published_at\": \"date\"},inplace=True)\n",
        "# Transforma a string em data mantendo somente a data\n",
        "pd_text['date'] = pd.to_datetime(pd_text['date'], format='%Y-%m-%d')\n",
        "pd_text['date2'] = pd_text['date'].dt.normalize()\n",
        "pd_text.head(5)\n",
        "df.size"
      ],
      "execution_count": null,
      "outputs": [
        {
          "output_type": "execute_result",
          "data": {
            "text/plain": [
              "1000"
            ]
          },
          "metadata": {
            "tags": []
          },
          "execution_count": 27
        }
      ]
    },
    {
      "cell_type": "code",
      "metadata": {
        "id": "MB5miVHW1U8-",
        "colab": {
          "base_uri": "https://localhost:8080/",
          "height": 542
        },
        "outputId": "930ead38-f274-4d6b-8084-9356be414ba2"
      },
      "source": [
        "pd_text['pca'] = (\n",
        "   pd_text[\"title\"]\n",
        "   .pipe(hero.clean)\n",
        "   .pipe(hero.tfidf)\n",
        "   .pipe(hero.pca)\n",
        ")\n",
        "\n",
        "\n",
        "hero.scatterplot(pd_text, 'pca', color='date', title=\"Economy News\")"
      ],
      "execution_count": null,
      "outputs": [
        {
          "output_type": "display_data",
          "data": {
            "text/html": [
              "<html>\n",
              "<head><meta charset=\"utf-8\" /></head>\n",
              "<body>\n",
              "    <div>\n",
              "            <script src=\"https://cdnjs.cloudflare.com/ajax/libs/mathjax/2.7.5/MathJax.js?config=TeX-AMS-MML_SVG\"></script><script type=\"text/javascript\">if (window.MathJax) {MathJax.Hub.Config({SVG: {font: \"STIX-Web\"}});}</script>\n",
              "                <script type=\"text/javascript\">window.PlotlyConfig = {MathJaxConfig: 'local'};</script>\n",
              "        <script src=\"https://cdn.plot.ly/plotly-latest.min.js\"></script>    \n",
              "            <div id=\"7ba7f8ac-4f12-488c-8e53-f9b3eef48387\" class=\"plotly-graph-div\" style=\"height:525px; width:100%;\"></div>\n",
              "            <script type=\"text/javascript\">\n",
              "                \n",
              "                    window.PLOTLYENV=window.PLOTLYENV || {};\n",
              "                    \n",
              "                if (document.getElementById(\"7ba7f8ac-4f12-488c-8e53-f9b3eef48387\")) {\n",
              "                    Plotly.newPlot(\n",
              "                        '7ba7f8ac-4f12-488c-8e53-f9b3eef48387',\n",
              "                        [{\"hoverlabel\": {\"namelength\": 0}, \"hovertemplate\": \"date=2021-02-26 12:10:31<br>x=%{x}<br>y=%{y}\", \"legendgroup\": \"date=2021-02-26 12:10:31\", \"marker\": {\"color\": \"#636efa\", \"symbol\": \"circle\"}, \"mode\": \"markers\", \"name\": \"date=2021-02-26 12:10:31\", \"showlegend\": true, \"type\": \"scatter\", \"x\": [0.02029577349051045], \"xaxis\": \"x\", \"y\": [-0.09281291368394513], \"yaxis\": \"y\"}, {\"hoverlabel\": {\"namelength\": 0}, \"hovertemplate\": \"date=2020-12-03 12:05:48<br>x=%{x}<br>y=%{y}\", \"legendgroup\": \"date=2020-12-03 12:05:48\", \"marker\": {\"color\": \"#EF553B\", \"symbol\": \"circle\"}, \"mode\": \"markers\", \"name\": \"date=2020-12-03 12:05:48\", \"showlegend\": true, \"type\": \"scatter\", \"x\": [0.020295773490510816], \"xaxis\": \"x\", \"y\": [-0.09281291368394488], \"yaxis\": \"y\"}, {\"hoverlabel\": {\"namelength\": 0}, \"hovertemplate\": \"date=2020-12-29 12:45:43<br>x=%{x}<br>y=%{y}\", \"legendgroup\": \"date=2020-12-29 12:45:43\", \"marker\": {\"color\": \"#00cc96\", \"symbol\": \"circle\"}, \"mode\": \"markers\", \"name\": \"date=2020-12-29 12:45:43\", \"showlegend\": true, \"type\": \"scatter\", \"x\": [-0.054655731941324844], \"xaxis\": \"x\", \"y\": [-0.04028478777584449], \"yaxis\": \"y\"}, {\"hoverlabel\": {\"namelength\": 0}, \"hovertemplate\": \"date=2020-12-02 15:22:05<br>x=%{x}<br>y=%{y}\", \"legendgroup\": \"date=2020-12-02 15:22:05\", \"marker\": {\"color\": \"#ab63fa\", \"symbol\": \"circle\"}, \"mode\": \"markers\", \"name\": \"date=2020-12-02 15:22:05\", \"showlegend\": true, \"type\": \"scatter\", \"x\": [-0.0569123939823745], \"xaxis\": \"x\", \"y\": [-0.04333337708329767], \"yaxis\": \"y\"}, {\"hoverlabel\": {\"namelength\": 0}, \"hovertemplate\": \"date=2021-01-08 15:45:34<br>x=%{x}<br>y=%{y}\", \"legendgroup\": \"date=2021-01-08 15:45:34\", \"marker\": {\"color\": \"#FFA15A\", \"symbol\": \"circle\"}, \"mode\": \"markers\", \"name\": \"date=2021-01-08 15:45:34\", \"showlegend\": true, \"type\": \"scatter\", \"x\": [-0.11970269682549192], \"xaxis\": \"x\", \"y\": [0.0434877008657068], \"yaxis\": \"y\"}, {\"hoverlabel\": {\"namelength\": 0}, \"hovertemplate\": \"date=2021-03-22 19:58:25<br>x=%{x}<br>y=%{y}\", \"legendgroup\": \"date=2021-03-22 19:58:25\", \"marker\": {\"color\": \"#19d3f3\", \"symbol\": \"circle\"}, \"mode\": \"markers\", \"name\": \"date=2021-03-22 19:58:25\", \"showlegend\": true, \"type\": \"scatter\", \"x\": [-0.07345768205125427], \"xaxis\": \"x\", \"y\": [-0.04512655207697911], \"yaxis\": \"y\"}, {\"hoverlabel\": {\"namelength\": 0}, \"hovertemplate\": \"date=2020-12-17 20:03:43<br>x=%{x}<br>y=%{y}\", \"legendgroup\": \"date=2020-12-17 20:03:43\", \"marker\": {\"color\": \"#FF6692\", \"symbol\": \"circle\"}, \"mode\": \"markers\", \"name\": \"date=2020-12-17 20:03:43\", \"showlegend\": true, \"type\": \"scatter\", \"x\": [-0.06051459844399078], \"xaxis\": \"x\", \"y\": [-0.03711217182460785], \"yaxis\": \"y\"}, {\"hoverlabel\": {\"namelength\": 0}, \"hovertemplate\": \"date=2020-12-14 20:27:00<br>x=%{x}<br>y=%{y}\", \"legendgroup\": \"date=2020-12-14 20:27:00\", \"marker\": {\"color\": \"#B6E880\", \"symbol\": \"circle\"}, \"mode\": \"markers\", \"name\": \"date=2020-12-14 20:27:00\", \"showlegend\": true, \"type\": \"scatter\", \"x\": [-0.06655939816427298], \"xaxis\": \"x\", \"y\": [-0.049819981961694605], \"yaxis\": \"y\"}, {\"hoverlabel\": {\"namelength\": 0}, \"hovertemplate\": \"date=2020-12-03 20:00:33<br>x=%{x}<br>y=%{y}\", \"legendgroup\": \"date=2020-12-03 20:00:33\", \"marker\": {\"color\": \"#FF97FF\", \"symbol\": \"circle\"}, \"mode\": \"markers\", \"name\": \"date=2020-12-03 20:00:33\", \"showlegend\": true, \"type\": \"scatter\", \"x\": [-0.05718409910924524], \"xaxis\": \"x\", \"y\": [-0.03473712715727297], \"yaxis\": \"y\"}, {\"hoverlabel\": {\"namelength\": 0}, \"hovertemplate\": \"date=2020-12-21 19:35:29<br>x=%{x}<br>y=%{y}\", \"legendgroup\": \"date=2020-12-21 19:35:29\", \"marker\": {\"color\": \"#FECB52\", \"symbol\": \"circle\"}, \"mode\": \"markers\", \"name\": \"date=2020-12-21 19:35:29\", \"showlegend\": true, \"type\": \"scatter\", \"x\": [-0.06715006748604639], \"xaxis\": \"x\", \"y\": [-0.05711293211681466], \"yaxis\": \"y\"}, {\"hoverlabel\": {\"namelength\": 0}, \"hovertemplate\": \"date=2021-01-12 18:18:07<br>x=%{x}<br>y=%{y}\", \"legendgroup\": \"date=2021-01-12 18:18:07\", \"marker\": {\"color\": \"#636efa\", \"symbol\": \"circle\"}, \"mode\": \"markers\", \"name\": \"date=2021-01-12 18:18:07\", \"showlegend\": true, \"type\": \"scatter\", \"x\": [-0.044832040296595], \"xaxis\": \"x\", \"y\": [-0.047945400731863146], \"yaxis\": \"y\"}, {\"hoverlabel\": {\"namelength\": 0}, \"hovertemplate\": \"date=2021-01-08 21:43:00<br>x=%{x}<br>y=%{y}\", \"legendgroup\": \"date=2021-01-08 21:43:00\", \"marker\": {\"color\": \"#EF553B\", \"symbol\": \"circle\"}, \"mode\": \"markers\", \"name\": \"date=2021-01-08 21:43:00\", \"showlegend\": true, \"type\": \"scatter\", \"x\": [-0.10187563547213727], \"xaxis\": \"x\", \"y\": [-0.048747408929444416], \"yaxis\": \"y\"}, {\"hoverlabel\": {\"namelength\": 0}, \"hovertemplate\": \"date=2020-12-15 12:19:26<br>x=%{x}<br>y=%{y}\", \"legendgroup\": \"date=2020-12-15 12:19:26\", \"marker\": {\"color\": \"#00cc96\", \"symbol\": \"circle\"}, \"mode\": \"markers\", \"name\": \"date=2020-12-15 12:19:26\", \"showlegend\": true, \"type\": \"scatter\", \"x\": [-0.065521284725508], \"xaxis\": \"x\", \"y\": [-0.11240620763580125], \"yaxis\": \"y\"}, {\"hoverlabel\": {\"namelength\": 0}, \"hovertemplate\": \"date=2021-03-15 15:02:51<br>x=%{x}<br>y=%{y}\", \"legendgroup\": \"date=2021-03-15 15:02:51\", \"marker\": {\"color\": \"#ab63fa\", \"symbol\": \"circle\"}, \"mode\": \"markers\", \"name\": \"date=2021-03-15 15:02:51\", \"showlegend\": true, \"type\": \"scatter\", \"x\": [-0.07111149641552018], \"xaxis\": \"x\", \"y\": [-0.06385153101923288], \"yaxis\": \"y\"}, {\"hoverlabel\": {\"namelength\": 0}, \"hovertemplate\": \"date=2021-01-04 12:53:18<br>x=%{x}<br>y=%{y}\", \"legendgroup\": \"date=2021-01-04 12:53:18\", \"marker\": {\"color\": \"#FFA15A\", \"symbol\": \"circle\"}, \"mode\": \"markers\", \"name\": \"date=2021-01-04 12:53:18\", \"showlegend\": true, \"type\": \"scatter\", \"x\": [-0.018234191735978563], \"xaxis\": \"x\", \"y\": [-0.06082190221209766], \"yaxis\": \"y\"}, {\"hoverlabel\": {\"namelength\": 0}, \"hovertemplate\": \"date=2021-01-06 12:00:28<br>x=%{x}<br>y=%{y}\", \"legendgroup\": \"date=2021-01-06 12:00:28\", \"marker\": {\"color\": \"#19d3f3\", \"symbol\": \"circle\"}, \"mode\": \"markers\", \"name\": \"date=2021-01-06 12:00:28\", \"showlegend\": true, \"type\": \"scatter\", \"x\": [-0.07122918080937334], \"xaxis\": \"x\", \"y\": [-0.0358349528964507], \"yaxis\": \"y\"}, {\"hoverlabel\": {\"namelength\": 0}, \"hovertemplate\": \"date=2020-12-16 18:38:27<br>x=%{x}<br>y=%{y}\", \"legendgroup\": \"date=2020-12-16 18:38:27\", \"marker\": {\"color\": \"#FF6692\", \"symbol\": \"circle\"}, \"mode\": \"markers\", \"name\": \"date=2020-12-16 18:38:27\", \"showlegend\": true, \"type\": \"scatter\", \"x\": [-0.04828695021969205], \"xaxis\": \"x\", \"y\": [-0.04739426287849092], \"yaxis\": \"y\"}, {\"hoverlabel\": {\"namelength\": 0}, \"hovertemplate\": \"date=2021-03-16 20:31:12<br>x=%{x}<br>y=%{y}\", \"legendgroup\": \"date=2021-03-16 20:31:12\", \"marker\": {\"color\": \"#B6E880\", \"symbol\": \"circle\"}, \"mode\": \"markers\", \"name\": \"date=2021-03-16 20:31:12\", \"showlegend\": true, \"type\": \"scatter\", \"x\": [-0.05881877092810191], \"xaxis\": \"x\", \"y\": [-0.11112290678777899], \"yaxis\": \"y\"}, {\"hoverlabel\": {\"namelength\": 0}, \"hovertemplate\": \"date=2020-12-14 12:13:47<br>x=%{x}<br>y=%{y}\", \"legendgroup\": \"date=2020-12-14 12:13:47\", \"marker\": {\"color\": \"#FF97FF\", \"symbol\": \"circle\"}, \"mode\": \"markers\", \"name\": \"date=2020-12-14 12:13:47\", \"showlegend\": true, \"type\": \"scatter\", \"x\": [-0.061961972226993685], \"xaxis\": \"x\", \"y\": [-0.16585916737856077], \"yaxis\": \"y\"}, {\"hoverlabel\": {\"namelength\": 0}, \"hovertemplate\": \"date=2021-02-12 13:19:16<br>x=%{x}<br>y=%{y}\", \"legendgroup\": \"date=2021-02-12 13:19:16\", \"marker\": {\"color\": \"#FECB52\", \"symbol\": \"circle\"}, \"mode\": \"markers\", \"name\": \"date=2021-02-12 13:19:16\", \"showlegend\": true, \"type\": \"scatter\", \"x\": [-0.03364966040254347], \"xaxis\": \"x\", \"y\": [-0.06666179883795126], \"yaxis\": \"y\"}, {\"hoverlabel\": {\"namelength\": 0}, \"hovertemplate\": \"date=2021-03-23 20:50:53<br>x=%{x}<br>y=%{y}\", \"legendgroup\": \"date=2021-03-23 20:50:53\", \"marker\": {\"color\": \"#636efa\", \"symbol\": \"circle\"}, \"mode\": \"markers\", \"name\": \"date=2021-03-23 20:50:53\", \"showlegend\": true, \"type\": \"scatter\", \"x\": [-0.06113017733654152], \"xaxis\": \"x\", \"y\": [-0.03862432270468548], \"yaxis\": \"y\"}, {\"hoverlabel\": {\"namelength\": 0}, \"hovertemplate\": \"date=2021-01-22 20:36:10<br>x=%{x}<br>y=%{y}\", \"legendgroup\": \"date=2021-01-22 20:36:10\", \"marker\": {\"color\": \"#EF553B\", \"symbol\": \"circle\"}, \"mode\": \"markers\", \"name\": \"date=2021-01-22 20:36:10\", \"showlegend\": true, \"type\": \"scatter\", \"x\": [-0.05013854302296441], \"xaxis\": \"x\", \"y\": [-0.056323890807892935], \"yaxis\": \"y\"}, {\"hoverlabel\": {\"namelength\": 0}, \"hovertemplate\": \"date=2021-03-19 23:00:36<br>x=%{x}<br>y=%{y}\", \"legendgroup\": \"date=2021-03-19 23:00:36\", \"marker\": {\"color\": \"#00cc96\", \"symbol\": \"circle\"}, \"mode\": \"markers\", \"name\": \"date=2021-03-19 23:00:36\", \"showlegend\": true, \"type\": \"scatter\", \"x\": [0.037261023755812264], \"xaxis\": \"x\", \"y\": [-0.024168059769217647], \"yaxis\": \"y\"}, {\"hoverlabel\": {\"namelength\": 0}, \"hovertemplate\": \"date=2020-12-07 12:18:53<br>x=%{x}<br>y=%{y}\", \"legendgroup\": \"date=2020-12-07 12:18:53\", \"marker\": {\"color\": \"#ab63fa\", \"symbol\": \"circle\"}, \"mode\": \"markers\", \"name\": \"date=2020-12-07 12:18:53\", \"showlegend\": true, \"type\": \"scatter\", \"x\": [0.059848248443787166], \"xaxis\": \"x\", \"y\": [-0.07974699458809217], \"yaxis\": \"y\"}, {\"hoverlabel\": {\"namelength\": 0}, \"hovertemplate\": \"date=2021-01-21 21:42:51<br>x=%{x}<br>y=%{y}\", \"legendgroup\": \"date=2021-01-21 21:42:51\", \"marker\": {\"color\": \"#FFA15A\", \"symbol\": \"circle\"}, \"mode\": \"markers\", \"name\": \"date=2021-01-21 21:42:51\", \"showlegend\": true, \"type\": \"scatter\", \"x\": [0.009878785706217606], \"xaxis\": \"x\", \"y\": [-0.0024684196303172926], \"yaxis\": \"y\"}, {\"hoverlabel\": {\"namelength\": 0}, \"hovertemplate\": \"date=2020-12-11 12:56:00<br>x=%{x}<br>y=%{y}\", \"legendgroup\": \"date=2020-12-11 12:56:00\", \"marker\": {\"color\": \"#19d3f3\", \"symbol\": \"circle\"}, \"mode\": \"markers\", \"name\": \"date=2020-12-11 12:56:00\", \"showlegend\": true, \"type\": \"scatter\", \"x\": [-0.05079309098161067], \"xaxis\": \"x\", \"y\": [-0.05469285625885132], \"yaxis\": \"y\"}, {\"hoverlabel\": {\"namelength\": 0}, \"hovertemplate\": \"date=2021-03-22 18:14:00<br>x=%{x}<br>y=%{y}\", \"legendgroup\": \"date=2021-03-22 18:14:00\", \"marker\": {\"color\": \"#FF6692\", \"symbol\": \"circle\"}, \"mode\": \"markers\", \"name\": \"date=2021-03-22 18:14:00\", \"showlegend\": true, \"type\": \"scatter\", \"x\": [-0.08702069191644196], \"xaxis\": \"x\", \"y\": [-0.03544872728763844], \"yaxis\": \"y\"}, {\"hoverlabel\": {\"namelength\": 0}, \"hovertemplate\": \"date=2021-01-14 12:17:00<br>x=%{x}<br>y=%{y}\", \"legendgroup\": \"date=2021-01-14 12:17:00\", \"marker\": {\"color\": \"#B6E880\", \"symbol\": \"circle\"}, \"mode\": \"markers\", \"name\": \"date=2021-01-14 12:17:00\", \"showlegend\": true, \"type\": \"scatter\", \"x\": [-0.02263920858707216], \"xaxis\": \"x\", \"y\": [-0.08196156061791209], \"yaxis\": \"y\"}, {\"hoverlabel\": {\"namelength\": 0}, \"hovertemplate\": \"date=2020-12-23 13:17:34<br>x=%{x}<br>y=%{y}\", \"legendgroup\": \"date=2020-12-23 13:17:34\", \"marker\": {\"color\": \"#FF97FF\", \"symbol\": \"circle\"}, \"mode\": \"markers\", \"name\": \"date=2020-12-23 13:17:34\", \"showlegend\": true, \"type\": \"scatter\", \"x\": [-0.13294571859407936], \"xaxis\": \"x\", \"y\": [0.007834513820351507], \"yaxis\": \"y\"}, {\"hoverlabel\": {\"namelength\": 0}, \"hovertemplate\": \"date=2021-01-04 12:14:26<br>x=%{x}<br>y=%{y}\", \"legendgroup\": \"date=2021-01-04 12:14:26\", \"marker\": {\"color\": \"#FECB52\", \"symbol\": \"circle\"}, \"mode\": \"markers\", \"name\": \"date=2021-01-04 12:14:26\", \"showlegend\": true, \"type\": \"scatter\", \"x\": [-0.06979408715243864], \"xaxis\": \"x\", \"y\": [-0.14524231109329666], \"yaxis\": \"y\"}, {\"hoverlabel\": {\"namelength\": 0}, \"hovertemplate\": \"date=2021-02-25 15:20:00<br>x=%{x}<br>y=%{y}\", \"legendgroup\": \"date=2021-02-25 15:20:00\", \"marker\": {\"color\": \"#636efa\", \"symbol\": \"circle\"}, \"mode\": \"markers\", \"name\": \"date=2021-02-25 15:20:00\", \"showlegend\": true, \"type\": \"scatter\", \"x\": [-0.03128828150065492], \"xaxis\": \"x\", \"y\": [-0.050182179324673906], \"yaxis\": \"y\"}, {\"hoverlabel\": {\"namelength\": 0}, \"hovertemplate\": \"date=2021-03-17 13:14:00<br>x=%{x}<br>y=%{y}\", \"legendgroup\": \"date=2021-03-17 13:14:00\", \"marker\": {\"color\": \"#EF553B\", \"symbol\": \"circle\"}, \"mode\": \"markers\", \"name\": \"date=2021-03-17 13:14:00\", \"showlegend\": true, \"type\": \"scatter\", \"x\": [-0.08122269291636983], \"xaxis\": \"x\", \"y\": [-0.10079947772124313], \"yaxis\": \"y\"}, {\"hoverlabel\": {\"namelength\": 0}, \"hovertemplate\": \"date=2020-12-02 13:19:33<br>x=%{x}<br>y=%{y}\", \"legendgroup\": \"date=2020-12-02 13:19:33\", \"marker\": {\"color\": \"#00cc96\", \"symbol\": \"circle\"}, \"mode\": \"markers\", \"name\": \"date=2020-12-02 13:19:33\", \"showlegend\": true, \"type\": \"scatter\", \"x\": [-0.05759414134306886], \"xaxis\": \"x\", \"y\": [-0.08020721569676326], \"yaxis\": \"y\"}, {\"hoverlabel\": {\"namelength\": 0}, \"hovertemplate\": \"date=2020-12-18 13:20:13<br>x=%{x}<br>y=%{y}\", \"legendgroup\": \"date=2020-12-18 13:20:13\", \"marker\": {\"color\": \"#ab63fa\", \"symbol\": \"circle\"}, \"mode\": \"markers\", \"name\": \"date=2020-12-18 13:20:13\", \"showlegend\": true, \"type\": \"scatter\", \"x\": [0.08573601069984511], \"xaxis\": \"x\", \"y\": [-0.021745930487862677], \"yaxis\": \"y\"}, {\"hoverlabel\": {\"namelength\": 0}, \"hovertemplate\": \"date=2020-12-14 13:18:43<br>x=%{x}<br>y=%{y}\", \"legendgroup\": \"date=2020-12-14 13:18:43\", \"marker\": {\"color\": \"#FFA15A\", \"symbol\": \"circle\"}, \"mode\": \"markers\", \"name\": \"date=2020-12-14 13:18:43\", \"showlegend\": true, \"type\": \"scatter\", \"x\": [-0.061481808249983554], \"xaxis\": \"x\", \"y\": [-0.1656941126581867], \"yaxis\": \"y\"}, {\"hoverlabel\": {\"namelength\": 0}, \"hovertemplate\": \"date=2020-12-31 10:30:26<br>x=%{x}<br>y=%{y}\", \"legendgroup\": \"date=2020-12-31 10:30:26\", \"marker\": {\"color\": \"#19d3f3\", \"symbol\": \"circle\"}, \"mode\": \"markers\", \"name\": \"date=2020-12-31 10:30:26\", \"showlegend\": true, \"type\": \"scatter\", \"x\": [0.016255742244317712], \"xaxis\": \"x\", \"y\": [-0.04735142939766889], \"yaxis\": \"y\"}, {\"hoverlabel\": {\"namelength\": 0}, \"hovertemplate\": \"date=2021-02-25 13:18:29<br>x=%{x}<br>y=%{y}\", \"legendgroup\": \"date=2021-02-25 13:18:29\", \"marker\": {\"color\": \"#FF6692\", \"symbol\": \"circle\"}, \"mode\": \"markers\", \"name\": \"date=2021-02-25 13:18:29\", \"showlegend\": true, \"type\": \"scatter\", \"x\": [-0.037118539741698035], \"xaxis\": \"x\", \"y\": [-0.1510129163095093], \"yaxis\": \"y\"}, {\"hoverlabel\": {\"namelength\": 0}, \"hovertemplate\": \"date=2021-03-18 20:21:45<br>x=%{x}<br>y=%{y}\", \"legendgroup\": \"date=2021-03-18 20:21:45\", \"marker\": {\"color\": \"#B6E880\", \"symbol\": \"circle\"}, \"mode\": \"markers\", \"name\": \"date=2021-03-18 20:21:45\", \"showlegend\": true, \"type\": \"scatter\", \"x\": [0.033272864086995466], \"xaxis\": \"x\", \"y\": [-0.119951452644917], \"yaxis\": \"y\"}, {\"hoverlabel\": {\"namelength\": 0}, \"hovertemplate\": \"date=2021-03-08 21:15:41<br>x=%{x}<br>y=%{y}\", \"legendgroup\": \"date=2021-03-08 21:15:41\", \"marker\": {\"color\": \"#FF97FF\", \"symbol\": \"circle\"}, \"mode\": \"markers\", \"name\": \"date=2021-03-08 21:15:41\", \"showlegend\": true, \"type\": \"scatter\", \"x\": [-0.10071213649976893], \"xaxis\": \"x\", \"y\": [-0.08302956068665587], \"yaxis\": \"y\"}, {\"hoverlabel\": {\"namelength\": 0}, \"hovertemplate\": \"date=2020-12-21 16:02:00<br>x=%{x}<br>y=%{y}\", \"legendgroup\": \"date=2020-12-21 16:02:00\", \"marker\": {\"color\": \"#FECB52\", \"symbol\": \"circle\"}, \"mode\": \"markers\", \"name\": \"date=2020-12-21 16:02:00\", \"showlegend\": true, \"type\": \"scatter\", \"x\": [-0.055633628787930545], \"xaxis\": \"x\", \"y\": [-0.05333580860967936], \"yaxis\": \"y\"}, {\"hoverlabel\": {\"namelength\": 0}, \"hovertemplate\": \"date=2021-01-13 13:14:08<br>x=%{x}<br>y=%{y}\", \"legendgroup\": \"date=2021-01-13 13:14:08\", \"marker\": {\"color\": \"#636efa\", \"symbol\": \"circle\"}, \"mode\": \"markers\", \"name\": \"date=2021-01-13 13:14:08\", \"showlegend\": true, \"type\": \"scatter\", \"x\": [-0.062582650337956], \"xaxis\": \"x\", \"y\": [-0.11162705792678712], \"yaxis\": \"y\"}, {\"hoverlabel\": {\"namelength\": 0}, \"hovertemplate\": \"date=2021-01-05 21:27:38<br>x=%{x}<br>y=%{y}\", \"legendgroup\": \"date=2021-01-05 21:27:38\", \"marker\": {\"color\": \"#EF553B\", \"symbol\": \"circle\"}, \"mode\": \"markers\", \"name\": \"date=2021-01-05 21:27:38\", \"showlegend\": true, \"type\": \"scatter\", \"x\": [-0.08505523941094273], \"xaxis\": \"x\", \"y\": [-0.0947375559754089], \"yaxis\": \"y\"}, {\"hoverlabel\": {\"namelength\": 0}, \"hovertemplate\": \"date=2021-02-26 13:13:23<br>x=%{x}<br>y=%{y}\", \"legendgroup\": \"date=2021-02-26 13:13:23\", \"marker\": {\"color\": \"#00cc96\", \"symbol\": \"circle\"}, \"mode\": \"markers\", \"name\": \"date=2021-02-26 13:13:23\", \"showlegend\": true, \"type\": \"scatter\", \"x\": [-0.04656850815105568], \"xaxis\": \"x\", \"y\": [-0.08858093757702047], \"yaxis\": \"y\"}, {\"hoverlabel\": {\"namelength\": 0}, \"hovertemplate\": \"date=2021-02-04 13:17:00<br>x=%{x}<br>y=%{y}\", \"legendgroup\": \"date=2021-02-04 13:17:00\", \"marker\": {\"color\": \"#ab63fa\", \"symbol\": \"circle\"}, \"mode\": \"markers\", \"name\": \"date=2021-02-04 13:17:00\", \"showlegend\": true, \"type\": \"scatter\", \"x\": [0.8031690978933749, 0.8031690978933749, 0.8031690978933749, 0.8031690978933749, 0.8031690978933749, 0.8031690978933749, 0.8031690978933749, 0.8031690978933749, 0.8031690978933749, 0.8031690978933749, 0.8031690978933749, 0.8031690978933749, 0.8031690978933749, 0.8031690978933749, 0.8031690978933749, 0.8031690978933749], \"xaxis\": \"x\", \"y\": [0.38773620335611736, 0.38773620335611736, 0.38773620335611736, 0.38773620335611736, 0.38773620335611736, 0.38773620335611736, 0.38773620335611736, 0.38773620335611736, 0.38773620335611736, 0.38773620335611736, 0.38773620335611736, 0.38773620335611736, 0.38773620335611736, 0.38773620335611736, 0.38773620335611736, 0.38773620335611736], \"yaxis\": \"y\"}, {\"hoverlabel\": {\"namelength\": 0}, \"hovertemplate\": \"date=2020-12-01 12:17:28<br>x=%{x}<br>y=%{y}\", \"legendgroup\": \"date=2020-12-01 12:17:28\", \"marker\": {\"color\": \"#FFA15A\", \"symbol\": \"circle\"}, \"mode\": \"markers\", \"name\": \"date=2020-12-01 12:17:28\", \"showlegend\": true, \"type\": \"scatter\", \"x\": [-0.04396747499598273], \"xaxis\": \"x\", \"y\": [-0.14295672488590155], \"yaxis\": \"y\"}, {\"hoverlabel\": {\"namelength\": 0}, \"hovertemplate\": \"date=2020-12-08 12:23:40<br>x=%{x}<br>y=%{y}\", \"legendgroup\": \"date=2020-12-08 12:23:40\", \"marker\": {\"color\": \"#19d3f3\", \"symbol\": \"circle\"}, \"mode\": \"markers\", \"name\": \"date=2020-12-08 12:23:40\", \"showlegend\": true, \"type\": \"scatter\", \"x\": [-0.052654953131021885], \"xaxis\": \"x\", \"y\": [-0.13830902550482407], \"yaxis\": \"y\"}, {\"hoverlabel\": {\"namelength\": 0}, \"hovertemplate\": \"date=2021-01-08 12:15:06<br>x=%{x}<br>y=%{y}\", \"legendgroup\": \"date=2021-01-08 12:15:06\", \"marker\": {\"color\": \"#FF6692\", \"symbol\": \"circle\"}, \"mode\": \"markers\", \"name\": \"date=2021-01-08 12:15:06\", \"showlegend\": true, \"type\": \"scatter\", \"x\": [-0.09669820262131176], \"xaxis\": \"x\", \"y\": [-0.18053173518169457], \"yaxis\": \"y\"}, {\"hoverlabel\": {\"namelength\": 0}, \"hovertemplate\": \"date=2021-01-18 21:15:08<br>x=%{x}<br>y=%{y}\", \"legendgroup\": \"date=2021-01-18 21:15:08\", \"marker\": {\"color\": \"#B6E880\", \"symbol\": \"circle\"}, \"mode\": \"markers\", \"name\": \"date=2021-01-18 21:15:08\", \"showlegend\": true, \"type\": \"scatter\", \"x\": [-0.023894361556224625], \"xaxis\": \"x\", \"y\": [-0.07229088780418044], \"yaxis\": \"y\"}, {\"hoverlabel\": {\"namelength\": 0}, \"hovertemplate\": \"date=2021-01-19 13:15:57<br>x=%{x}<br>y=%{y}\", \"legendgroup\": \"date=2021-01-19 13:15:57\", \"marker\": {\"color\": \"#FF97FF\", \"symbol\": \"circle\"}, \"mode\": \"markers\", \"name\": \"date=2021-01-19 13:15:57\", \"showlegend\": true, \"type\": \"scatter\", \"x\": [-0.08749599919521744], \"xaxis\": \"x\", \"y\": [-0.13998415158019495], \"yaxis\": \"y\"}, {\"hoverlabel\": {\"namelength\": 0}, \"hovertemplate\": \"date=2021-01-05 13:21:40<br>x=%{x}<br>y=%{y}\", \"legendgroup\": \"date=2021-01-05 13:21:40\", \"marker\": {\"color\": \"#FECB52\", \"symbol\": \"circle\"}, \"mode\": \"markers\", \"name\": \"date=2021-01-05 13:21:40\", \"showlegend\": true, \"type\": \"scatter\", \"x\": [-0.07364259967380245], \"xaxis\": \"x\", \"y\": [-0.08312345889686813], \"yaxis\": \"y\"}, {\"hoverlabel\": {\"namelength\": 0}, \"hovertemplate\": \"date=2021-01-28 12:21:35<br>x=%{x}<br>y=%{y}\", \"legendgroup\": \"date=2021-01-28 12:21:35\", \"marker\": {\"color\": \"#636efa\", \"symbol\": \"circle\"}, \"mode\": \"markers\", \"name\": \"date=2021-01-28 12:21:35\", \"showlegend\": true, \"type\": \"scatter\", \"x\": [-0.041617044751256], \"xaxis\": \"x\", \"y\": [-0.10008012204813531], \"yaxis\": \"y\"}, {\"hoverlabel\": {\"namelength\": 0}, \"hovertemplate\": \"date=2021-03-18 12:15:41<br>x=%{x}<br>y=%{y}\", \"legendgroup\": \"date=2021-03-18 12:15:41\", \"marker\": {\"color\": \"#EF553B\", \"symbol\": \"circle\"}, \"mode\": \"markers\", \"name\": \"date=2021-03-18 12:15:41\", \"showlegend\": true, \"type\": \"scatter\", \"x\": [-0.032808513523851675], \"xaxis\": \"x\", \"y\": [-0.14629649365862307], \"yaxis\": \"y\"}, {\"hoverlabel\": {\"namelength\": 0}, \"hovertemplate\": \"date=2021-03-23 12:12:07<br>x=%{x}<br>y=%{y}\", \"legendgroup\": \"date=2021-03-23 12:12:07\", \"marker\": {\"color\": \"#00cc96\", \"symbol\": \"circle\"}, \"mode\": \"markers\", \"name\": \"date=2021-03-23 12:12:07\", \"showlegend\": true, \"type\": \"scatter\", \"x\": [-0.08290616615918034], \"xaxis\": \"x\", \"y\": [-0.11225378144346296], \"yaxis\": \"y\"}, {\"hoverlabel\": {\"namelength\": 0}, \"hovertemplate\": \"date=2020-12-01 21:36:58<br>x=%{x}<br>y=%{y}\", \"legendgroup\": \"date=2020-12-01 21:36:58\", \"marker\": {\"color\": \"#ab63fa\", \"symbol\": \"circle\"}, \"mode\": \"markers\", \"name\": \"date=2020-12-01 21:36:58\", \"showlegend\": true, \"type\": \"scatter\", \"x\": [-0.03234426176337812], \"xaxis\": \"x\", \"y\": [-0.10744325613920618], \"yaxis\": \"y\"}, {\"hoverlabel\": {\"namelength\": 0}, \"hovertemplate\": \"date=2021-02-25 12:09:02<br>x=%{x}<br>y=%{y}\", \"legendgroup\": \"date=2021-02-25 12:09:02\", \"marker\": {\"color\": \"#FFA15A\", \"symbol\": \"circle\"}, \"mode\": \"markers\", \"name\": \"date=2021-02-25 12:09:02\", \"showlegend\": true, \"type\": \"scatter\", \"x\": [-0.047502127185745216], \"xaxis\": \"x\", \"y\": [-0.15299346022446944], \"yaxis\": \"y\"}, {\"hoverlabel\": {\"namelength\": 0}, \"hovertemplate\": \"date=2021-03-15 20:22:53<br>x=%{x}<br>y=%{y}\", \"legendgroup\": \"date=2021-03-15 20:22:53\", \"marker\": {\"color\": \"#19d3f3\", \"symbol\": \"circle\"}, \"mode\": \"markers\", \"name\": \"date=2021-03-15 20:22:53\", \"showlegend\": true, \"type\": \"scatter\", \"x\": [-0.007001303637398705], \"xaxis\": \"x\", \"y\": [-0.10925571659127264], \"yaxis\": \"y\"}, {\"hoverlabel\": {\"namelength\": 0}, \"hovertemplate\": \"date=2021-01-18 13:15:31<br>x=%{x}<br>y=%{y}\", \"legendgroup\": \"date=2021-01-18 13:15:31\", \"marker\": {\"color\": \"#FF6692\", \"symbol\": \"circle\"}, \"mode\": \"markers\", \"name\": \"date=2021-01-18 13:15:31\", \"showlegend\": true, \"type\": \"scatter\", \"x\": [-0.051280131837398595], \"xaxis\": \"x\", \"y\": [-0.08325054115773285], \"yaxis\": \"y\"}, {\"hoverlabel\": {\"namelength\": 0}, \"hovertemplate\": \"date=2021-01-27 21:25:03<br>x=%{x}<br>y=%{y}\", \"legendgroup\": \"date=2021-01-27 21:25:03\", \"marker\": {\"color\": \"#B6E880\", \"symbol\": \"circle\"}, \"mode\": \"markers\", \"name\": \"date=2021-01-27 21:25:03\", \"showlegend\": true, \"type\": \"scatter\", \"x\": [0.00325239878227905], \"xaxis\": \"x\", \"y\": [-0.0756426033680888], \"yaxis\": \"y\"}, {\"hoverlabel\": {\"namelength\": 0}, \"hovertemplate\": \"date=2021-03-09 21:31:06<br>x=%{x}<br>y=%{y}\", \"legendgroup\": \"date=2021-03-09 21:31:06\", \"marker\": {\"color\": \"#FF97FF\", \"symbol\": \"circle\"}, \"mode\": \"markers\", \"name\": \"date=2021-03-09 21:31:06\", \"showlegend\": true, \"type\": \"scatter\", \"x\": [-0.015481570710346957], \"xaxis\": \"x\", \"y\": [-0.14303813188621267], \"yaxis\": \"y\"}, {\"hoverlabel\": {\"namelength\": 0}, \"hovertemplate\": \"date=2021-03-19 11:09:08<br>x=%{x}<br>y=%{y}\", \"legendgroup\": \"date=2021-03-19 11:09:08\", \"marker\": {\"color\": \"#FECB52\", \"symbol\": \"circle\"}, \"mode\": \"markers\", \"name\": \"date=2021-03-19 11:09:08\", \"showlegend\": true, \"type\": \"scatter\", \"x\": [-0.06698299592362851], \"xaxis\": \"x\", \"y\": [-0.06560324020040939], \"yaxis\": \"y\"}, {\"hoverlabel\": {\"namelength\": 0}, \"hovertemplate\": \"date=2020-12-03 13:18:05<br>x=%{x}<br>y=%{y}\", \"legendgroup\": \"date=2020-12-03 13:18:05\", \"marker\": {\"color\": \"#636efa\", \"symbol\": \"circle\"}, \"mode\": \"markers\", \"name\": \"date=2020-12-03 13:18:05\", \"showlegend\": true, \"type\": \"scatter\", \"x\": [-0.11363172724149054], \"xaxis\": \"x\", \"y\": [-0.05615465883459522], \"yaxis\": \"y\"}, {\"hoverlabel\": {\"namelength\": 0}, \"hovertemplate\": \"date=2020-12-18 12:19:42<br>x=%{x}<br>y=%{y}\", \"legendgroup\": \"date=2020-12-18 12:19:42\", \"marker\": {\"color\": \"#EF553B\", \"symbol\": \"circle\"}, \"mode\": \"markers\", \"name\": \"date=2020-12-18 12:19:42\", \"showlegend\": true, \"type\": \"scatter\", \"x\": [-0.07480783564755428], \"xaxis\": \"x\", \"y\": [-0.10169359828655179], \"yaxis\": \"y\"}, {\"hoverlabel\": {\"namelength\": 0}, \"hovertemplate\": \"date=2021-02-04 21:30:04<br>x=%{x}<br>y=%{y}\", \"legendgroup\": \"date=2021-02-04 21:30:04\", \"marker\": {\"color\": \"#00cc96\", \"symbol\": \"circle\"}, \"mode\": \"markers\", \"name\": \"date=2021-02-04 21:30:04\", \"showlegend\": true, \"type\": \"scatter\", \"x\": [0.016689717389343092], \"xaxis\": \"x\", \"y\": [-0.011360116953204212], \"yaxis\": \"y\"}, {\"hoverlabel\": {\"namelength\": 0}, \"hovertemplate\": \"date=2021-02-05 13:17:51<br>x=%{x}<br>y=%{y}\", \"legendgroup\": \"date=2021-02-05 13:17:51\", \"marker\": {\"color\": \"#ab63fa\", \"symbol\": \"circle\"}, \"mode\": \"markers\", \"name\": \"date=2021-02-05 13:17:51\", \"showlegend\": true, \"type\": \"scatter\", \"x\": [-0.06815920656116635], \"xaxis\": \"x\", \"y\": [-0.11053240312653119], \"yaxis\": \"y\"}, {\"hoverlabel\": {\"namelength\": 0}, \"hovertemplate\": \"date=2020-12-04 17:30:44<br>x=%{x}<br>y=%{y}\", \"legendgroup\": \"date=2020-12-04 17:30:44\", \"marker\": {\"color\": \"#FFA15A\", \"symbol\": \"circle\"}, \"mode\": \"markers\", \"name\": \"date=2020-12-04 17:30:44\", \"showlegend\": true, \"type\": \"scatter\", \"x\": [-0.0378978551706238, -0.0378978551706238], \"xaxis\": \"x\", \"y\": [-0.07643979415068008, -0.07643979415068008], \"yaxis\": \"y\"}, {\"hoverlabel\": {\"namelength\": 0}, \"hovertemplate\": \"date=2021-01-08 21:32:44<br>x=%{x}<br>y=%{y}\", \"legendgroup\": \"date=2021-01-08 21:32:44\", \"marker\": {\"color\": \"#19d3f3\", \"symbol\": \"circle\"}, \"mode\": \"markers\", \"name\": \"date=2021-01-08 21:32:44\", \"showlegend\": true, \"type\": \"scatter\", \"x\": [-0.06273459225850798], \"xaxis\": \"x\", \"y\": [-0.07847283324292385], \"yaxis\": \"y\"}, {\"hoverlabel\": {\"namelength\": 0}, \"hovertemplate\": \"date=2021-01-11 13:18:06<br>x=%{x}<br>y=%{y}\", \"legendgroup\": \"date=2021-01-11 13:18:06\", \"marker\": {\"color\": \"#FF6692\", \"symbol\": \"circle\"}, \"mode\": \"markers\", \"name\": \"date=2021-01-11 13:18:06\", \"showlegend\": true, \"type\": \"scatter\", \"x\": [-0.03792962721689479], \"xaxis\": \"x\", \"y\": [-0.15172068903841657], \"yaxis\": \"y\"}, {\"hoverlabel\": {\"namelength\": 0}, \"hovertemplate\": \"date=2021-01-05 12:16:02<br>x=%{x}<br>y=%{y}\", \"legendgroup\": \"date=2021-01-05 12:16:02\", \"marker\": {\"color\": \"#B6E880\", \"symbol\": \"circle\"}, \"mode\": \"markers\", \"name\": \"date=2021-01-05 12:16:02\", \"showlegend\": true, \"type\": \"scatter\", \"x\": [-0.0739433689717732], \"xaxis\": \"x\", \"y\": [-0.1175625167359663], \"yaxis\": \"y\"}, {\"hoverlabel\": {\"namelength\": 0}, \"hovertemplate\": \"date=2021-03-22 13:14:56<br>x=%{x}<br>y=%{y}\", \"legendgroup\": \"date=2021-03-22 13:14:56\", \"marker\": {\"color\": \"#FF97FF\", \"symbol\": \"circle\"}, \"mode\": \"markers\", \"name\": \"date=2021-03-22 13:14:56\", \"showlegend\": true, \"type\": \"scatter\", \"x\": [0.013879162962304426], \"xaxis\": \"x\", \"y\": [-0.06275015520786821], \"yaxis\": \"y\"}, {\"hoverlabel\": {\"namelength\": 0}, \"hovertemplate\": \"date=2021-03-17 12:20:25<br>x=%{x}<br>y=%{y}\", \"legendgroup\": \"date=2021-03-17 12:20:25\", \"marker\": {\"color\": \"#FECB52\", \"symbol\": \"circle\"}, \"mode\": \"markers\", \"name\": \"date=2021-03-17 12:20:25\", \"showlegend\": true, \"type\": \"scatter\", \"x\": [-0.0527839066877795], \"xaxis\": \"x\", \"y\": [-0.13020954034776186], \"yaxis\": \"y\"}, {\"hoverlabel\": {\"namelength\": 0}, \"hovertemplate\": \"date=2020-12-04 12:15:34<br>x=%{x}<br>y=%{y}\", \"legendgroup\": \"date=2020-12-04 12:15:34\", \"marker\": {\"color\": \"#636efa\", \"symbol\": \"circle\"}, \"mode\": \"markers\", \"name\": \"date=2020-12-04 12:15:34\", \"showlegend\": true, \"type\": \"scatter\", \"x\": [-0.044480390266104244], \"xaxis\": \"x\", \"y\": [-0.09466491847524804], \"yaxis\": \"y\"}, {\"hoverlabel\": {\"namelength\": 0}, \"hovertemplate\": \"date=2020-12-09 12:19:54<br>x=%{x}<br>y=%{y}\", \"legendgroup\": \"date=2020-12-09 12:19:54\", \"marker\": {\"color\": \"#EF553B\", \"symbol\": \"circle\"}, \"mode\": \"markers\", \"name\": \"date=2020-12-09 12:19:54\", \"showlegend\": true, \"type\": \"scatter\", \"x\": [0.04380879247314421], \"xaxis\": \"x\", \"y\": [-0.07901598885518875], \"yaxis\": \"y\"}, {\"hoverlabel\": {\"namelength\": 0}, \"hovertemplate\": \"date=2020-12-17 12:20:31<br>x=%{x}<br>y=%{y}\", \"legendgroup\": \"date=2020-12-17 12:20:31\", \"marker\": {\"color\": \"#00cc96\", \"symbol\": \"circle\"}, \"mode\": \"markers\", \"name\": \"date=2020-12-17 12:20:31\", \"showlegend\": true, \"type\": \"scatter\", \"x\": [0.05516058649203312], \"xaxis\": \"x\", \"y\": [-0.16492946284677995], \"yaxis\": \"y\"}, {\"hoverlabel\": {\"namelength\": 0}, \"hovertemplate\": \"date=2021-01-07 13:14:21<br>x=%{x}<br>y=%{y}\", \"legendgroup\": \"date=2021-01-07 13:14:21\", \"marker\": {\"color\": \"#ab63fa\", \"symbol\": \"circle\"}, \"mode\": \"markers\", \"name\": \"date=2021-01-07 13:14:21\", \"showlegend\": true, \"type\": \"scatter\", \"x\": [-0.05181893814849229], \"xaxis\": \"x\", \"y\": [-0.10568844907174631], \"yaxis\": \"y\"}, {\"hoverlabel\": {\"namelength\": 0}, \"hovertemplate\": \"date=2021-01-15 13:20:44<br>x=%{x}<br>y=%{y}\", \"legendgroup\": \"date=2021-01-15 13:20:44\", \"marker\": {\"color\": \"#FFA15A\", \"symbol\": \"circle\"}, \"mode\": \"markers\", \"name\": \"date=2021-01-15 13:20:44\", \"showlegend\": true, \"type\": \"scatter\", \"x\": [-0.05273242352372403], \"xaxis\": \"x\", \"y\": [-0.12025376420604617], \"yaxis\": \"y\"}, {\"hoverlabel\": {\"namelength\": 0}, \"hovertemplate\": \"date=2021-01-20 18:52:00<br>x=%{x}<br>y=%{y}\", \"legendgroup\": \"date=2021-01-20 18:52:00\", \"marker\": {\"color\": \"#19d3f3\", \"symbol\": \"circle\"}, \"mode\": \"markers\", \"name\": \"date=2021-01-20 18:52:00\", \"showlegend\": true, \"type\": \"scatter\", \"x\": [-0.07810797842087004], \"xaxis\": \"x\", \"y\": [-0.03572316907826126], \"yaxis\": \"y\"}, {\"hoverlabel\": {\"namelength\": 0}, \"hovertemplate\": \"date=2021-01-06 13:19:29<br>x=%{x}<br>y=%{y}\", \"legendgroup\": \"date=2021-01-06 13:19:29\", \"marker\": {\"color\": \"#FF6692\", \"symbol\": \"circle\"}, \"mode\": \"markers\", \"name\": \"date=2021-01-06 13:19:29\", \"showlegend\": true, \"type\": \"scatter\", \"x\": [-0.05373292506331366], \"xaxis\": \"x\", \"y\": [-0.15534107053688143], \"yaxis\": \"y\"}, {\"hoverlabel\": {\"namelength\": 0}, \"hovertemplate\": \"date=2020-12-02 12:13:29<br>x=%{x}<br>y=%{y}\", \"legendgroup\": \"date=2020-12-02 12:13:29\", \"marker\": {\"color\": \"#B6E880\", \"symbol\": \"circle\"}, \"mode\": \"markers\", \"name\": \"date=2020-12-02 12:13:29\", \"showlegend\": true, \"type\": \"scatter\", \"x\": [0.0908842726981081], \"xaxis\": \"x\", \"y\": [-0.09706900774997565], \"yaxis\": \"y\"}, {\"hoverlabel\": {\"namelength\": 0}, \"hovertemplate\": \"date=2021-01-20 21:22:38<br>x=%{x}<br>y=%{y}\", \"legendgroup\": \"date=2021-01-20 21:22:38\", \"marker\": {\"color\": \"#FF97FF\", \"symbol\": \"circle\"}, \"mode\": \"markers\", \"name\": \"date=2021-01-20 21:22:38\", \"showlegend\": true, \"type\": \"scatter\", \"x\": [-0.039728257381231875], \"xaxis\": \"x\", \"y\": [-0.12587159322038516], \"yaxis\": \"y\"}, {\"hoverlabel\": {\"namelength\": 0}, \"hovertemplate\": \"date=2021-02-12 21:28:20<br>x=%{x}<br>y=%{y}\", \"legendgroup\": \"date=2021-02-12 21:28:20\", \"marker\": {\"color\": \"#FECB52\", \"symbol\": \"circle\"}, \"mode\": \"markers\", \"name\": \"date=2021-02-12 21:28:20\", \"showlegend\": true, \"type\": \"scatter\", \"x\": [-0.0707985127311198], \"xaxis\": \"x\", \"y\": [-0.10936611433125354], \"yaxis\": \"y\"}, {\"hoverlabel\": {\"namelength\": 0}, \"hovertemplate\": \"date=2021-02-24 21:27:56<br>x=%{x}<br>y=%{y}\", \"legendgroup\": \"date=2021-02-24 21:27:56\", \"marker\": {\"color\": \"#636efa\", \"symbol\": \"circle\"}, \"mode\": \"markers\", \"name\": \"date=2021-02-24 21:27:56\", \"showlegend\": true, \"type\": \"scatter\", \"x\": [0.08440418475650462], \"xaxis\": \"x\", \"y\": [-0.04298862807325031], \"yaxis\": \"y\"}, {\"hoverlabel\": {\"namelength\": 0}, \"hovertemplate\": \"date=2021-02-25 21:23:11<br>x=%{x}<br>y=%{y}\", \"legendgroup\": \"date=2021-02-25 21:23:11\", \"marker\": {\"color\": \"#EF553B\", \"symbol\": \"circle\"}, \"mode\": \"markers\", \"name\": \"date=2021-02-25 21:23:11\", \"showlegend\": true, \"type\": \"scatter\", \"x\": [-0.03089578163693453], \"xaxis\": \"x\", \"y\": [-0.09012869888988446], \"yaxis\": \"y\"}, {\"hoverlabel\": {\"namelength\": 0}, \"hovertemplate\": \"date=2020-12-01 13:18:58<br>x=%{x}<br>y=%{y}\", \"legendgroup\": \"date=2020-12-01 13:18:58\", \"marker\": {\"color\": \"#00cc96\", \"symbol\": \"circle\"}, \"mode\": \"markers\", \"name\": \"date=2020-12-01 13:18:58\", \"showlegend\": true, \"type\": \"scatter\", \"x\": [-0.005273872878322769], \"xaxis\": \"x\", \"y\": [-0.13460463701038722], \"yaxis\": \"y\"}, {\"hoverlabel\": {\"namelength\": 0}, \"hovertemplate\": \"date=2020-12-04 21:28:59<br>x=%{x}<br>y=%{y}\", \"legendgroup\": \"date=2020-12-04 21:28:59\", \"marker\": {\"color\": \"#ab63fa\", \"symbol\": \"circle\"}, \"mode\": \"markers\", \"name\": \"date=2020-12-04 21:28:59\", \"showlegend\": true, \"type\": \"scatter\", \"x\": [-0.07534290393550946], \"xaxis\": \"x\", \"y\": [-0.10595446416965741], \"yaxis\": \"y\"}, {\"hoverlabel\": {\"namelength\": 0}, \"hovertemplate\": \"date=2020-12-08 13:17:34<br>x=%{x}<br>y=%{y}\", \"legendgroup\": \"date=2020-12-08 13:17:34\", \"marker\": {\"color\": \"#FFA15A\", \"symbol\": \"circle\"}, \"mode\": \"markers\", \"name\": \"date=2020-12-08 13:17:34\", \"showlegend\": true, \"type\": \"scatter\", \"x\": [-0.06503003350720597], \"xaxis\": \"x\", \"y\": [-0.12537029987629011], \"yaxis\": \"y\"}, {\"hoverlabel\": {\"namelength\": 0}, \"hovertemplate\": \"date=2020-12-16 13:13:32<br>x=%{x}<br>y=%{y}\", \"legendgroup\": \"date=2020-12-16 13:13:32\", \"marker\": {\"color\": \"#19d3f3\", \"symbol\": \"circle\"}, \"mode\": \"markers\", \"name\": \"date=2020-12-16 13:13:32\", \"showlegend\": true, \"type\": \"scatter\", \"x\": [0.026894042372432692], \"xaxis\": \"x\", \"y\": [-0.10720807684001259], \"yaxis\": \"y\"}, {\"hoverlabel\": {\"namelength\": 0}, \"hovertemplate\": \"date=2020-12-22 12:07:36<br>x=%{x}<br>y=%{y}\", \"legendgroup\": \"date=2020-12-22 12:07:36\", \"marker\": {\"color\": \"#FF6692\", \"symbol\": \"circle\"}, \"mode\": \"markers\", \"name\": \"date=2020-12-22 12:07:36\", \"showlegend\": true, \"type\": \"scatter\", \"x\": [-0.009562547622213315], \"xaxis\": \"x\", \"y\": [-0.11812360643742638], \"yaxis\": \"y\"}, {\"hoverlabel\": {\"namelength\": 0}, \"hovertemplate\": \"date=2021-02-26 21:34:50<br>x=%{x}<br>y=%{y}\", \"legendgroup\": \"date=2021-02-26 21:34:50\", \"marker\": {\"color\": \"#B6E880\", \"symbol\": \"circle\"}, \"mode\": \"markers\", \"name\": \"date=2021-02-26 21:34:50\", \"showlegend\": true, \"type\": \"scatter\", \"x\": [0.060631966163147845], \"xaxis\": \"x\", \"y\": [-0.025624622423378287], \"yaxis\": \"y\"}, {\"hoverlabel\": {\"namelength\": 0}, \"hovertemplate\": \"date=2020-12-17 13:18:00<br>x=%{x}<br>y=%{y}\", \"legendgroup\": \"date=2020-12-17 13:18:00\", \"marker\": {\"color\": \"#FF97FF\", \"symbol\": \"circle\"}, \"mode\": \"markers\", \"name\": \"date=2020-12-17 13:18:00\", \"showlegend\": true, \"type\": \"scatter\", \"x\": [-0.0596015390136942], \"xaxis\": \"x\", \"y\": [-0.17057707163977182], \"yaxis\": \"y\"}, {\"hoverlabel\": {\"namelength\": 0}, \"hovertemplate\": \"date=2021-02-12 12:15:43<br>x=%{x}<br>y=%{y}\", \"legendgroup\": \"date=2021-02-12 12:15:43\", \"marker\": {\"color\": \"#FECB52\", \"symbol\": \"circle\"}, \"mode\": \"markers\", \"name\": \"date=2021-02-12 12:15:43\", \"showlegend\": true, \"type\": \"scatter\", \"x\": [0.10741642657029396], \"xaxis\": \"x\", \"y\": [-0.08039360323137297], \"yaxis\": \"y\"}, {\"hoverlabel\": {\"namelength\": 0}, \"hovertemplate\": \"date=2021-03-09 12:22:50<br>x=%{x}<br>y=%{y}\", \"legendgroup\": \"date=2021-03-09 12:22:50\", \"marker\": {\"color\": \"#636efa\", \"symbol\": \"circle\"}, \"mode\": \"markers\", \"name\": \"date=2021-03-09 12:22:50\", \"showlegend\": true, \"type\": \"scatter\", \"x\": [-0.047277937705884406], \"xaxis\": \"x\", \"y\": [-0.11370724426151356], \"yaxis\": \"y\"}, {\"hoverlabel\": {\"namelength\": 0}, \"hovertemplate\": \"date=2021-01-15 12:21:48<br>x=%{x}<br>y=%{y}\", \"legendgroup\": \"date=2021-01-15 12:21:48\", \"marker\": {\"color\": \"#EF553B\", \"symbol\": \"circle\"}, \"mode\": \"markers\", \"name\": \"date=2021-01-15 12:21:48\", \"showlegend\": true, \"type\": \"scatter\", \"x\": [-0.0864498456569138], \"xaxis\": \"x\", \"y\": [-0.1261254591932213], \"yaxis\": \"y\"}, {\"hoverlabel\": {\"namelength\": 0}, \"hovertemplate\": \"date=2021-01-27 12:21:59<br>x=%{x}<br>y=%{y}\", \"legendgroup\": \"date=2021-01-27 12:21:59\", \"marker\": {\"color\": \"#00cc96\", \"symbol\": \"circle\"}, \"mode\": \"markers\", \"name\": \"date=2021-01-27 12:21:59\", \"showlegend\": true, \"type\": \"scatter\", \"x\": [0.23929994755738088], \"xaxis\": \"x\", \"y\": [0.012483011989697219], \"yaxis\": \"y\"}, {\"hoverlabel\": {\"namelength\": 0}, \"hovertemplate\": \"date=2021-03-15 13:19:16<br>x=%{x}<br>y=%{y}\", \"legendgroup\": \"date=2021-03-15 13:19:16\", \"marker\": {\"color\": \"#ab63fa\", \"symbol\": \"circle\"}, \"mode\": \"markers\", \"name\": \"date=2021-03-15 13:19:16\", \"showlegend\": true, \"type\": \"scatter\", \"x\": [0.15260315187709936], \"xaxis\": \"x\", \"y\": [-0.018621760841687877], \"yaxis\": \"y\"}, {\"hoverlabel\": {\"namelength\": 0}, \"hovertemplate\": \"date=2021-03-22 20:14:25<br>x=%{x}<br>y=%{y}\", \"legendgroup\": \"date=2021-03-22 20:14:25\", \"marker\": {\"color\": \"#FFA15A\", \"symbol\": \"circle\"}, \"mode\": \"markers\", \"name\": \"date=2021-03-22 20:14:25\", \"showlegend\": true, \"type\": \"scatter\", \"x\": [0.09857277458036952], \"xaxis\": \"x\", \"y\": [-0.04798288579785575], \"yaxis\": \"y\"}, {\"hoverlabel\": {\"namelength\": 0}, \"hovertemplate\": \"date=2021-01-22 13:16:18<br>x=%{x}<br>y=%{y}\", \"legendgroup\": \"date=2021-01-22 13:16:18\", \"marker\": {\"color\": \"#19d3f3\", \"symbol\": \"circle\"}, \"mode\": \"markers\", \"name\": \"date=2021-01-22 13:16:18\", \"showlegend\": true, \"type\": \"scatter\", \"x\": [-0.0988579111455091], \"xaxis\": \"x\", \"y\": [-0.012957356764988177], \"yaxis\": \"y\"}, {\"hoverlabel\": {\"namelength\": 0}, \"hovertemplate\": \"date=2021-01-07 12:16:02<br>x=%{x}<br>y=%{y}\", \"legendgroup\": \"date=2021-01-07 12:16:02\", \"marker\": {\"color\": \"#FF6692\", \"symbol\": \"circle\"}, \"mode\": \"markers\", \"name\": \"date=2021-01-07 12:16:02\", \"showlegend\": true, \"type\": \"scatter\", \"x\": [-0.0620466089477036], \"xaxis\": \"x\", \"y\": [-0.11694806851359131], \"yaxis\": \"y\"}, {\"hoverlabel\": {\"namelength\": 0}, \"hovertemplate\": \"date=2021-03-09 13:18:33<br>x=%{x}<br>y=%{y}\", \"legendgroup\": \"date=2021-03-09 13:18:33\", \"marker\": {\"color\": \"#B6E880\", \"symbol\": \"circle\"}, \"mode\": \"markers\", \"name\": \"date=2021-03-09 13:18:33\", \"showlegend\": true, \"type\": \"scatter\", \"x\": [-0.019186889517137293], \"xaxis\": \"x\", \"y\": [-0.10702971594869781], \"yaxis\": \"y\"}, {\"hoverlabel\": {\"namelength\": 0}, \"hovertemplate\": \"date=2021-03-11 13:15:26<br>x=%{x}<br>y=%{y}\", \"legendgroup\": \"date=2021-03-11 13:15:26\", \"marker\": {\"color\": \"#FF97FF\", \"symbol\": \"circle\"}, \"mode\": \"markers\", \"name\": \"date=2021-03-11 13:15:26\", \"showlegend\": true, \"type\": \"scatter\", \"x\": [-0.037940158372524825], \"xaxis\": \"x\", \"y\": [-0.17585602133275371], \"yaxis\": \"y\"}, {\"hoverlabel\": {\"namelength\": 0}, \"hovertemplate\": \"date=2021-03-12 21:33:47<br>x=%{x}<br>y=%{y}\", \"legendgroup\": \"date=2021-03-12 21:33:47\", \"marker\": {\"color\": \"#FECB52\", \"symbol\": \"circle\"}, \"mode\": \"markers\", \"name\": \"date=2021-03-12 21:33:47\", \"showlegend\": true, \"type\": \"scatter\", \"x\": [0.0057011516332062615], \"xaxis\": \"x\", \"y\": [-0.10897857676043686], \"yaxis\": \"y\"}, {\"hoverlabel\": {\"namelength\": 0}, \"hovertemplate\": \"date=2021-03-10 13:17:53<br>x=%{x}<br>y=%{y}\", \"legendgroup\": \"date=2021-03-10 13:17:53\", \"marker\": {\"color\": \"#636efa\", \"symbol\": \"circle\"}, \"mode\": \"markers\", \"name\": \"date=2021-03-10 13:17:53\", \"showlegend\": true, \"type\": \"scatter\", \"x\": [0.0790886199275136], \"xaxis\": \"x\", \"y\": [-0.09487174353776831], \"yaxis\": \"y\"}, {\"hoverlabel\": {\"namelength\": 0}, \"hovertemplate\": \"date=2020-12-02 21:17:33<br>x=%{x}<br>y=%{y}\", \"legendgroup\": \"date=2020-12-02 21:17:33\", \"marker\": {\"color\": \"#EF553B\", \"symbol\": \"circle\"}, \"mode\": \"markers\", \"name\": \"date=2020-12-02 21:17:33\", \"showlegend\": true, \"type\": \"scatter\", \"x\": [0.17787629962680715], \"xaxis\": \"x\", \"y\": [-0.030304984766363445], \"yaxis\": \"y\"}, {\"hoverlabel\": {\"namelength\": 0}, \"hovertemplate\": \"date=2020-12-21 13:18:03<br>x=%{x}<br>y=%{y}\", \"legendgroup\": \"date=2020-12-21 13:18:03\", \"marker\": {\"color\": \"#00cc96\", \"symbol\": \"circle\"}, \"mode\": \"markers\", \"name\": \"date=2020-12-21 13:18:03\", \"showlegend\": true, \"type\": \"scatter\", \"x\": [0.0077125758354488205], \"xaxis\": \"x\", \"y\": [-0.09503790389095958], \"yaxis\": \"y\"}, {\"hoverlabel\": {\"namelength\": 0}, \"hovertemplate\": \"date=2020-12-23 12:09:35<br>x=%{x}<br>y=%{y}\", \"legendgroup\": \"date=2020-12-23 12:09:35\", \"marker\": {\"color\": \"#ab63fa\", \"symbol\": \"circle\"}, \"mode\": \"markers\", \"name\": \"date=2020-12-23 12:09:35\", \"showlegend\": true, \"type\": \"scatter\", \"x\": [0.003679632007363522], \"xaxis\": \"x\", \"y\": [-0.04015963989472569], \"yaxis\": \"y\"}, {\"hoverlabel\": {\"namelength\": 0}, \"hovertemplate\": \"date=2020-12-22 13:18:03<br>x=%{x}<br>y=%{y}\", \"legendgroup\": \"date=2020-12-22 13:18:03\", \"marker\": {\"color\": \"#FFA15A\", \"symbol\": \"circle\"}, \"mode\": \"markers\", \"name\": \"date=2020-12-22 13:18:03\", \"showlegend\": true, \"type\": \"scatter\", \"x\": [-0.01901773539141371], \"xaxis\": \"x\", \"y\": [-0.12277008052210554], \"yaxis\": \"y\"}, {\"hoverlabel\": {\"namelength\": 0}, \"hovertemplate\": \"date=2021-03-10 12:17:29<br>x=%{x}<br>y=%{y}\", \"legendgroup\": \"date=2021-03-10 12:17:29\", \"marker\": {\"color\": \"#19d3f3\", \"symbol\": \"circle\"}, \"mode\": \"markers\", \"name\": \"date=2021-03-10 12:17:29\", \"showlegend\": true, \"type\": \"scatter\", \"x\": [0.05861870734416743], \"xaxis\": \"x\", \"y\": [-0.14655171702641895], \"yaxis\": \"y\"}, {\"hoverlabel\": {\"namelength\": 0}, \"hovertemplate\": \"date=2021-02-05 21:27:53<br>x=%{x}<br>y=%{y}\", \"legendgroup\": \"date=2021-02-05 21:27:53\", \"marker\": {\"color\": \"#FF6692\", \"symbol\": \"circle\"}, \"mode\": \"markers\", \"name\": \"date=2021-02-05 21:27:53\", \"showlegend\": true, \"type\": \"scatter\", \"x\": [-0.053499785053690685], \"xaxis\": \"x\", \"y\": [-0.09661920645699179], \"yaxis\": \"y\"}, {\"hoverlabel\": {\"namelength\": 0}, \"hovertemplate\": \"date=2021-01-29 13:17:59<br>x=%{x}<br>y=%{y}\", \"legendgroup\": \"date=2021-01-29 13:17:59\", \"marker\": {\"color\": \"#B6E880\", \"symbol\": \"circle\"}, \"mode\": \"markers\", \"name\": \"date=2021-01-29 13:17:59\", \"showlegend\": true, \"type\": \"scatter\", \"x\": [-0.05696881011185755], \"xaxis\": \"x\", \"y\": [-0.098747174978343], \"yaxis\": \"y\"}, {\"hoverlabel\": {\"namelength\": 0}, \"hovertemplate\": \"date=2020-12-17 21:33:40<br>x=%{x}<br>y=%{y}\", \"legendgroup\": \"date=2020-12-17 21:33:40\", \"marker\": {\"color\": \"#FF97FF\", \"symbol\": \"circle\"}, \"mode\": \"markers\", \"name\": \"date=2020-12-17 21:33:40\", \"showlegend\": true, \"type\": \"scatter\", \"x\": [-0.03786596165178809], \"xaxis\": \"x\", \"y\": [-0.12767699238059602], \"yaxis\": \"y\"}, {\"hoverlabel\": {\"namelength\": 0}, \"hovertemplate\": \"date=2020-12-21 21:22:49<br>x=%{x}<br>y=%{y}\", \"legendgroup\": \"date=2020-12-21 21:22:49\", \"marker\": {\"color\": \"#FECB52\", \"symbol\": \"circle\"}, \"mode\": \"markers\", \"name\": \"date=2020-12-21 21:22:49\", \"showlegend\": true, \"type\": \"scatter\", \"x\": [-0.013968071420271833], \"xaxis\": \"x\", \"y\": [-0.12116615634590919], \"yaxis\": \"y\"}, {\"hoverlabel\": {\"namelength\": 0}, \"hovertemplate\": \"date=2021-01-05 19:02:52<br>x=%{x}<br>y=%{y}\", \"legendgroup\": \"date=2021-01-05 19:02:52\", \"marker\": {\"color\": \"#636efa\", \"symbol\": \"circle\"}, \"mode\": \"markers\", \"name\": \"date=2021-01-05 19:02:52\", \"showlegend\": true, \"type\": \"scatter\", \"x\": [-0.06865273315304574], \"xaxis\": \"x\", \"y\": [-0.06087467518921486], \"yaxis\": \"y\"}, {\"hoverlabel\": {\"namelength\": 0}, \"hovertemplate\": \"date=2021-01-04 13:18:26<br>x=%{x}<br>y=%{y}\", \"legendgroup\": \"date=2021-01-04 13:18:26\", \"marker\": {\"color\": \"#EF553B\", \"symbol\": \"circle\"}, \"mode\": \"markers\", \"name\": \"date=2021-01-04 13:18:26\", \"showlegend\": true, \"type\": \"scatter\", \"x\": [-0.11003648094024786], \"xaxis\": \"x\", \"y\": [-0.024353068419813592], \"yaxis\": \"y\"}, {\"hoverlabel\": {\"namelength\": 0}, \"hovertemplate\": \"date=2021-01-08 13:14:34<br>x=%{x}<br>y=%{y}\", \"legendgroup\": \"date=2021-01-08 13:14:34\", \"marker\": {\"color\": \"#00cc96\", \"symbol\": \"circle\"}, \"mode\": \"markers\", \"name\": \"date=2021-01-08 13:14:34\", \"showlegend\": true, \"type\": \"scatter\", \"x\": [-0.06903718749933914], \"xaxis\": \"x\", \"y\": [-0.1386599016414097], \"yaxis\": \"y\"}, {\"hoverlabel\": {\"namelength\": 0}, \"hovertemplate\": \"date=2021-03-12 12:18:24<br>x=%{x}<br>y=%{y}\", \"legendgroup\": \"date=2021-03-12 12:18:24\", \"marker\": {\"color\": \"#ab63fa\", \"symbol\": \"circle\"}, \"mode\": \"markers\", \"name\": \"date=2021-03-12 12:18:24\", \"showlegend\": true, \"type\": \"scatter\", \"x\": [-0.03397850632136192], \"xaxis\": \"x\", \"y\": [-0.17136426845581332], \"yaxis\": \"y\"}, {\"hoverlabel\": {\"namelength\": 0}, \"hovertemplate\": \"date=2021-01-21 12:17:08<br>x=%{x}<br>y=%{y}\", \"legendgroup\": \"date=2021-01-21 12:17:08\", \"marker\": {\"color\": \"#FFA15A\", \"symbol\": \"circle\"}, \"mode\": \"markers\", \"name\": \"date=2021-01-21 12:17:08\", \"showlegend\": true, \"type\": \"scatter\", \"x\": [-0.026056231785387723], \"xaxis\": \"x\", \"y\": [-0.1532712106189215], \"yaxis\": \"y\"}, {\"hoverlabel\": {\"namelength\": 0}, \"hovertemplate\": \"date=2021-01-22 12:16:28<br>x=%{x}<br>y=%{y}\", \"legendgroup\": \"date=2021-01-22 12:16:28\", \"marker\": {\"color\": \"#19d3f3\", \"symbol\": \"circle\"}, \"mode\": \"markers\", \"name\": \"date=2021-01-22 12:16:28\", \"showlegend\": true, \"type\": \"scatter\", \"x\": [-0.058865378351080286], \"xaxis\": \"x\", \"y\": [-0.010005385561140728], \"yaxis\": \"y\"}, {\"hoverlabel\": {\"namelength\": 0}, \"hovertemplate\": \"date=2021-01-04 21:27:57<br>x=%{x}<br>y=%{y}\", \"legendgroup\": \"date=2021-01-04 21:27:57\", \"marker\": {\"color\": \"#FF6692\", \"symbol\": \"circle\"}, \"mode\": \"markers\", \"name\": \"date=2021-01-04 21:27:57\", \"showlegend\": true, \"type\": \"scatter\", \"x\": [-0.02480263277442705], \"xaxis\": \"x\", \"y\": [-0.10610047164963665], \"yaxis\": \"y\"}, {\"hoverlabel\": {\"namelength\": 0}, \"hovertemplate\": \"date=2021-01-27 13:17:38<br>x=%{x}<br>y=%{y}\", \"legendgroup\": \"date=2021-01-27 13:17:38\", \"marker\": {\"color\": \"#B6E880\", \"symbol\": \"circle\"}, \"mode\": \"markers\", \"name\": \"date=2021-01-27 13:17:38\", \"showlegend\": true, \"type\": \"scatter\", \"x\": [-0.0665572133851814], \"xaxis\": \"x\", \"y\": [-0.12671515691124377], \"yaxis\": \"y\"}, {\"hoverlabel\": {\"namelength\": 0}, \"hovertemplate\": \"date=2021-03-10 21:33:02<br>x=%{x}<br>y=%{y}\", \"legendgroup\": \"date=2021-03-10 21:33:02\", \"marker\": {\"color\": \"#FF97FF\", \"symbol\": \"circle\"}, \"mode\": \"markers\", \"name\": \"date=2021-03-10 21:33:02\", \"showlegend\": true, \"type\": \"scatter\", \"x\": [0.031410635384778784], \"xaxis\": \"x\", \"y\": [-0.15983394509153462], \"yaxis\": \"y\"}, {\"hoverlabel\": {\"namelength\": 0}, \"hovertemplate\": \"date=2020-12-03 21:30:29<br>x=%{x}<br>y=%{y}\", \"legendgroup\": \"date=2020-12-03 21:30:29\", \"marker\": {\"color\": \"#FECB52\", \"symbol\": \"circle\"}, \"mode\": \"markers\", \"name\": \"date=2020-12-03 21:30:29\", \"showlegend\": true, \"type\": \"scatter\", \"x\": [0.03562323366659149], \"xaxis\": \"x\", \"y\": [-0.06968953313640747], \"yaxis\": \"y\"}, {\"hoverlabel\": {\"namelength\": 0}, \"hovertemplate\": \"date=2020-12-04 13:19:35<br>x=%{x}<br>y=%{y}\", \"legendgroup\": \"date=2020-12-04 13:19:35\", \"marker\": {\"color\": \"#636efa\", \"symbol\": \"circle\"}, \"mode\": \"markers\", \"name\": \"date=2020-12-04 13:19:35\", \"showlegend\": true, \"type\": \"scatter\", \"x\": [-0.03878489731192248], \"xaxis\": \"x\", \"y\": [-0.03873613911522611], \"yaxis\": \"y\"}, {\"hoverlabel\": {\"namelength\": 0}, \"hovertemplate\": \"date=2020-12-14 21:32:15<br>x=%{x}<br>y=%{y}\", \"legendgroup\": \"date=2020-12-14 21:32:15\", \"marker\": {\"color\": \"#EF553B\", \"symbol\": \"circle\"}, \"mode\": \"markers\", \"name\": \"date=2020-12-14 21:32:15\", \"showlegend\": true, \"type\": \"scatter\", \"x\": [0.06531492217527679], \"xaxis\": \"x\", \"y\": [-0.09369073838325372], \"yaxis\": \"y\"}, {\"hoverlabel\": {\"namelength\": 0}, \"hovertemplate\": \"date=2021-01-11 12:09:51<br>x=%{x}<br>y=%{y}\", \"legendgroup\": \"date=2021-01-11 12:09:51\", \"marker\": {\"color\": \"#00cc96\", \"symbol\": \"circle\"}, \"mode\": \"markers\", \"name\": \"date=2021-01-11 12:09:51\", \"showlegend\": true, \"type\": \"scatter\", \"x\": [-0.056766554195022356], \"xaxis\": \"x\", \"y\": [-0.1839042126686362], \"yaxis\": \"y\"}, {\"hoverlabel\": {\"namelength\": 0}, \"hovertemplate\": \"date=2021-01-19 12:10:58<br>x=%{x}<br>y=%{y}\", \"legendgroup\": \"date=2021-01-19 12:10:58\", \"marker\": {\"color\": \"#ab63fa\", \"symbol\": \"circle\"}, \"mode\": \"markers\", \"name\": \"date=2021-01-19 12:10:58\", \"showlegend\": true, \"type\": \"scatter\", \"x\": [-0.08172024317659554], \"xaxis\": \"x\", \"y\": [-0.13851968159317518], \"yaxis\": \"y\"}, {\"hoverlabel\": {\"namelength\": 0}, \"hovertemplate\": \"date=2021-01-19 21:29:07<br>x=%{x}<br>y=%{y}\", \"legendgroup\": \"date=2021-01-19 21:29:07\", \"marker\": {\"color\": \"#FFA15A\", \"symbol\": \"circle\"}, \"mode\": \"markers\", \"name\": \"date=2021-01-19 21:29:07\", \"showlegend\": true, \"type\": \"scatter\", \"x\": [0.03852830190577518], \"xaxis\": \"x\", \"y\": [-0.06492809946600941], \"yaxis\": \"y\"}, {\"hoverlabel\": {\"namelength\": 0}, \"hovertemplate\": \"date=2021-01-29 21:35:26<br>x=%{x}<br>y=%{y}\", \"legendgroup\": \"date=2021-01-29 21:35:26\", \"marker\": {\"color\": \"#19d3f3\", \"symbol\": \"circle\"}, \"mode\": \"markers\", \"name\": \"date=2021-01-29 21:35:26\", \"showlegend\": true, \"type\": \"scatter\", \"x\": [0.0037547516078027185], \"xaxis\": \"x\", \"y\": [-0.04327228399192594], \"yaxis\": \"y\"}, {\"hoverlabel\": {\"namelength\": 0}, \"hovertemplate\": \"date=2021-03-15 12:20:42<br>x=%{x}<br>y=%{y}\", \"legendgroup\": \"date=2021-03-15 12:20:42\", \"marker\": {\"color\": \"#FF6692\", \"symbol\": \"circle\"}, \"mode\": \"markers\", \"name\": \"date=2021-03-15 12:20:42\", \"showlegend\": true, \"type\": \"scatter\", \"x\": [-0.073928045586065], \"xaxis\": \"x\", \"y\": [-0.14514534719172], \"yaxis\": \"y\"}, {\"hoverlabel\": {\"namelength\": 0}, \"hovertemplate\": \"date=2021-03-19 20:33:54<br>x=%{x}<br>y=%{y}\", \"legendgroup\": \"date=2021-03-19 20:33:54\", \"marker\": {\"color\": \"#B6E880\", \"symbol\": \"circle\"}, \"mode\": \"markers\", \"name\": \"date=2021-03-19 20:33:54\", \"showlegend\": true, \"type\": \"scatter\", \"x\": [0.043439652597218534], \"xaxis\": \"x\", \"y\": [-0.06663633086096706], \"yaxis\": \"y\"}, {\"hoverlabel\": {\"namelength\": 0}, \"hovertemplate\": \"date=2021-01-12 21:32:26<br>x=%{x}<br>y=%{y}\", \"legendgroup\": \"date=2021-01-12 21:32:26\", \"marker\": {\"color\": \"#FF97FF\", \"symbol\": \"circle\"}, \"mode\": \"markers\", \"name\": \"date=2021-01-12 21:32:26\", \"showlegend\": true, \"type\": \"scatter\", \"x\": [0.28051527376214624], \"xaxis\": \"x\", \"y\": [0.0721061432221838], \"yaxis\": \"y\"}, {\"hoverlabel\": {\"namelength\": 0}, \"hovertemplate\": \"date=2021-01-22 21:34:50<br>x=%{x}<br>y=%{y}\", \"legendgroup\": \"date=2021-01-22 21:34:50\", \"marker\": {\"color\": \"#FECB52\", \"symbol\": \"circle\"}, \"mode\": \"markers\", \"name\": \"date=2021-01-22 21:34:50\", \"showlegend\": true, \"type\": \"scatter\", \"x\": [0.04121468237310209], \"xaxis\": \"x\", \"y\": [-0.032409926697074584], \"yaxis\": \"y\"}, {\"hoverlabel\": {\"namelength\": 0}, \"hovertemplate\": \"date=2020-12-29 13:16:39<br>x=%{x}<br>y=%{y}\", \"legendgroup\": \"date=2020-12-29 13:16:39\", \"marker\": {\"color\": \"#636efa\", \"symbol\": \"circle\"}, \"mode\": \"markers\", \"name\": \"date=2020-12-29 13:16:39\", \"showlegend\": true, \"type\": \"scatter\", \"x\": [0.0023369828060349073], \"xaxis\": \"x\", \"y\": [-0.08294357927713238], \"yaxis\": \"y\"}, {\"hoverlabel\": {\"namelength\": 0}, \"hovertemplate\": \"date=2020-12-16 21:14:18<br>x=%{x}<br>y=%{y}\", \"legendgroup\": \"date=2020-12-16 21:14:18\", \"marker\": {\"color\": \"#EF553B\", \"symbol\": \"circle\"}, \"mode\": \"markers\", \"name\": \"date=2020-12-16 21:14:18\", \"showlegend\": true, \"type\": \"scatter\", \"x\": [0.002977924561992611], \"xaxis\": \"x\", \"y\": [-0.12195580822827708], \"yaxis\": \"y\"}, {\"hoverlabel\": {\"namelength\": 0}, \"hovertemplate\": \"date=2020-12-21 12:09:15<br>x=%{x}<br>y=%{y}\", \"legendgroup\": \"date=2020-12-21 12:09:15\", \"marker\": {\"color\": \"#00cc96\", \"symbol\": \"circle\"}, \"mode\": \"markers\", \"name\": \"date=2020-12-21 12:09:15\", \"showlegend\": true, \"type\": \"scatter\", \"x\": [-0.07076694495234546], \"xaxis\": \"x\", \"y\": [-0.13174092318330208], \"yaxis\": \"y\"}, {\"hoverlabel\": {\"namelength\": 0}, \"hovertemplate\": \"date=2021-03-16 12:13:58<br>x=%{x}<br>y=%{y}\", \"legendgroup\": \"date=2021-03-16 12:13:58\", \"marker\": {\"color\": \"#ab63fa\", \"symbol\": \"circle\"}, \"mode\": \"markers\", \"name\": \"date=2021-03-16 12:13:58\", \"showlegend\": true, \"type\": \"scatter\", \"x\": [-0.014831436275606149], \"xaxis\": \"x\", \"y\": [-0.15096634868955713], \"yaxis\": \"y\"}, {\"hoverlabel\": {\"namelength\": 0}, \"hovertemplate\": \"date=2020-12-23 21:27:11<br>x=%{x}<br>y=%{y}\", \"legendgroup\": \"date=2020-12-23 21:27:11\", \"marker\": {\"color\": \"#FFA15A\", \"symbol\": \"circle\"}, \"mode\": \"markers\", \"name\": \"date=2020-12-23 21:27:11\", \"showlegend\": true, \"type\": \"scatter\", \"x\": [-0.039292575162677236], \"xaxis\": \"x\", \"y\": [-0.030153628562649054], \"yaxis\": \"y\"}, {\"hoverlabel\": {\"namelength\": 0}, \"hovertemplate\": \"date=2020-12-22 21:26:16<br>x=%{x}<br>y=%{y}\", \"legendgroup\": \"date=2020-12-22 21:26:16\", \"marker\": {\"color\": \"#19d3f3\", \"symbol\": \"circle\"}, \"mode\": \"markers\", \"name\": \"date=2020-12-22 21:26:16\", \"showlegend\": true, \"type\": \"scatter\", \"x\": [0.020124228774741085], \"xaxis\": \"x\", \"y\": [-0.08565739573326175], \"yaxis\": \"y\"}, {\"hoverlabel\": {\"namelength\": 0}, \"hovertemplate\": \"date=2021-01-07 21:45:16<br>x=%{x}<br>y=%{y}\", \"legendgroup\": \"date=2021-01-07 21:45:16\", \"marker\": {\"color\": \"#FF6692\", \"symbol\": \"circle\"}, \"mode\": \"markers\", \"name\": \"date=2021-01-07 21:45:16\", \"showlegend\": true, \"type\": \"scatter\", \"x\": [-0.019356849059242898], \"xaxis\": \"x\", \"y\": [-0.04230043103520266], \"yaxis\": \"y\"}, {\"hoverlabel\": {\"namelength\": 0}, \"hovertemplate\": \"date=2021-02-11 21:20:44<br>x=%{x}<br>y=%{y}\", \"legendgroup\": \"date=2021-02-11 21:20:44\", \"marker\": {\"color\": \"#B6E880\", \"symbol\": \"circle\"}, \"mode\": \"markers\", \"name\": \"date=2021-02-11 21:20:44\", \"showlegend\": true, \"type\": \"scatter\", \"x\": [-0.04972872139235284], \"xaxis\": \"x\", \"y\": [-0.11949874377257783], \"yaxis\": \"y\"}, {\"hoverlabel\": {\"namelength\": 0}, \"hovertemplate\": \"date=2020-12-11 12:20:32<br>x=%{x}<br>y=%{y}\", \"legendgroup\": \"date=2020-12-11 12:20:32\", \"marker\": {\"color\": \"#FF97FF\", \"symbol\": \"circle\"}, \"mode\": \"markers\", \"name\": \"date=2020-12-11 12:20:32\", \"showlegend\": true, \"type\": \"scatter\", \"x\": [-0.07830097935140014, -0.07830097935140014], \"xaxis\": \"x\", \"y\": [-0.15981339478025197, -0.15981339478025197], \"yaxis\": \"y\"}, {\"hoverlabel\": {\"namelength\": 0}, \"hovertemplate\": \"date=2021-01-06 21:28:17<br>x=%{x}<br>y=%{y}\", \"legendgroup\": \"date=2021-01-06 21:28:17\", \"marker\": {\"color\": \"#FECB52\", \"symbol\": \"circle\"}, \"mode\": \"markers\", \"name\": \"date=2021-01-06 21:28:17\", \"showlegend\": true, \"type\": \"scatter\", \"x\": [0.020098630003887365], \"xaxis\": \"x\", \"y\": [-0.09178557008199513], \"yaxis\": \"y\"}, {\"hoverlabel\": {\"namelength\": 0}, \"hovertemplate\": \"date=2021-01-15 21:36:31<br>x=%{x}<br>y=%{y}\", \"legendgroup\": \"date=2021-01-15 21:36:31\", \"marker\": {\"color\": \"#636efa\", \"symbol\": \"circle\"}, \"mode\": \"markers\", \"name\": \"date=2021-01-15 21:36:31\", \"showlegend\": true, \"type\": \"scatter\", \"x\": [0.05028657956860651], \"xaxis\": \"x\", \"y\": [-0.04219066633138659], \"yaxis\": \"y\"}, {\"hoverlabel\": {\"namelength\": 0}, \"hovertemplate\": \"date=2021-03-19 13:21:17<br>x=%{x}<br>y=%{y}\", \"legendgroup\": \"date=2021-03-19 13:21:17\", \"marker\": {\"color\": \"#EF553B\", \"symbol\": \"circle\"}, \"mode\": \"markers\", \"name\": \"date=2021-03-19 13:21:17\", \"showlegend\": true, \"type\": \"scatter\", \"x\": [0.033389795043630176], \"xaxis\": \"x\", \"y\": [-0.08911081545064325], \"yaxis\": \"y\"}, {\"hoverlabel\": {\"namelength\": 0}, \"hovertemplate\": \"date=2021-03-11 21:26:41<br>x=%{x}<br>y=%{y}\", \"legendgroup\": \"date=2021-03-11 21:26:41\", \"marker\": {\"color\": \"#00cc96\", \"symbol\": \"circle\"}, \"mode\": \"markers\", \"name\": \"date=2021-03-11 21:26:41\", \"showlegend\": true, \"type\": \"scatter\", \"x\": [-0.04003981497834401], \"xaxis\": \"x\", \"y\": [-0.17525102050953983], \"yaxis\": \"y\"}, {\"hoverlabel\": {\"namelength\": 0}, \"hovertemplate\": \"date=2021-02-26 12:24:17<br>x=%{x}<br>y=%{y}\", \"legendgroup\": \"date=2021-02-26 12:24:17\", \"marker\": {\"color\": \"#ab63fa\", \"symbol\": \"circle\"}, \"mode\": \"markers\", \"name\": \"date=2021-02-26 12:24:17\", \"showlegend\": true, \"type\": \"scatter\", \"x\": [-0.034688622332928354], \"xaxis\": \"x\", \"y\": [-0.1543461479514982], \"yaxis\": \"y\"}, {\"hoverlabel\": {\"namelength\": 0}, \"hovertemplate\": \"date=2021-03-09 20:10:08<br>x=%{x}<br>y=%{y}\", \"legendgroup\": \"date=2021-03-09 20:10:08\", \"marker\": {\"color\": \"#FFA15A\", \"symbol\": \"circle\"}, \"mode\": \"markers\", \"name\": \"date=2021-03-09 20:10:08\", \"showlegend\": true, \"type\": \"scatter\", \"x\": [-0.061486013312233447], \"xaxis\": \"x\", \"y\": [-0.06091325723989398], \"yaxis\": \"y\"}, {\"hoverlabel\": {\"namelength\": 0}, \"hovertemplate\": \"date=2021-01-14 13:19:21<br>x=%{x}<br>y=%{y}\", \"legendgroup\": \"date=2021-01-14 13:19:21\", \"marker\": {\"color\": \"#19d3f3\", \"symbol\": \"circle\"}, \"mode\": \"markers\", \"name\": \"date=2021-01-14 13:19:21\", \"showlegend\": true, \"type\": \"scatter\", \"x\": [-0.03081785836975321], \"xaxis\": \"x\", \"y\": [-0.09847594947331569], \"yaxis\": \"y\"}, {\"hoverlabel\": {\"namelength\": 0}, \"hovertemplate\": \"date=2020-12-10 21:34:20<br>x=%{x}<br>y=%{y}\", \"legendgroup\": \"date=2020-12-10 21:34:20\", \"marker\": {\"color\": \"#FF6692\", \"symbol\": \"circle\"}, \"mode\": \"markers\", \"name\": \"date=2020-12-10 21:34:20\", \"showlegend\": true, \"type\": \"scatter\", \"x\": [-0.060631921926461094], \"xaxis\": \"x\", \"y\": [-0.11421955261531763], \"yaxis\": \"y\"}, {\"hoverlabel\": {\"namelength\": 0}, \"hovertemplate\": \"date=2020-12-30 21:39:52<br>x=%{x}<br>y=%{y}\", \"legendgroup\": \"date=2020-12-30 21:39:52\", \"marker\": {\"color\": \"#B6E880\", \"symbol\": \"circle\"}, \"mode\": \"markers\", \"name\": \"date=2020-12-30 21:39:52\", \"showlegend\": true, \"type\": \"scatter\", \"x\": [-0.00031993283210956304], \"xaxis\": \"x\", \"y\": [-0.08717990403280708], \"yaxis\": \"y\"}, {\"hoverlabel\": {\"namelength\": 0}, \"hovertemplate\": \"date=2021-03-12 13:12:59<br>x=%{x}<br>y=%{y}\", \"legendgroup\": \"date=2021-03-12 13:12:59\", \"marker\": {\"color\": \"#FF97FF\", \"symbol\": \"circle\"}, \"mode\": \"markers\", \"name\": \"date=2021-03-12 13:12:59\", \"showlegend\": true, \"type\": \"scatter\", \"x\": [0.009266990873470979], \"xaxis\": \"x\", \"y\": [-0.15811890377412013], \"yaxis\": \"y\"}, {\"hoverlabel\": {\"namelength\": 0}, \"hovertemplate\": \"date=2021-01-13 21:24:47<br>x=%{x}<br>y=%{y}\", \"legendgroup\": \"date=2021-01-13 21:24:47\", \"marker\": {\"color\": \"#FECB52\", \"symbol\": \"circle\"}, \"mode\": \"markers\", \"name\": \"date=2021-01-13 21:24:47\", \"showlegend\": true, \"type\": \"scatter\", \"x\": [0.2704026683901975], \"xaxis\": \"x\", \"y\": [0.020611434730224927], \"yaxis\": \"y\"}, {\"hoverlabel\": {\"namelength\": 0}, \"hovertemplate\": \"date=2021-03-24 20:27:04<br>x=%{x}<br>y=%{y}\", \"legendgroup\": \"date=2021-03-24 20:27:04\", \"marker\": {\"color\": \"#636efa\", \"symbol\": \"circle\"}, \"mode\": \"markers\", \"name\": \"date=2021-03-24 20:27:04\", \"showlegend\": true, \"type\": \"scatter\", \"x\": [0.005600289527479811], \"xaxis\": \"x\", \"y\": [-0.1198730626919788], \"yaxis\": \"y\"}, {\"hoverlabel\": {\"namelength\": 0}, \"hovertemplate\": \"date=2020-12-10 13:18:35<br>x=%{x}<br>y=%{y}\", \"legendgroup\": \"date=2020-12-10 13:18:35\", \"marker\": {\"color\": \"#EF553B\", \"symbol\": \"circle\"}, \"mode\": \"markers\", \"name\": \"date=2020-12-10 13:18:35\", \"showlegend\": true, \"type\": \"scatter\", \"x\": [-0.061006649948494564], \"xaxis\": \"x\", \"y\": [-0.10433546088468726], \"yaxis\": \"y\"}, {\"hoverlabel\": {\"namelength\": 0}, \"hovertemplate\": \"date=2020-12-11 21:31:16<br>x=%{x}<br>y=%{y}\", \"legendgroup\": \"date=2020-12-11 21:31:16\", \"marker\": {\"color\": \"#00cc96\", \"symbol\": \"circle\"}, \"mode\": \"markers\", \"name\": \"date=2020-12-11 21:31:16\", \"showlegend\": true, \"type\": \"scatter\", \"x\": [-0.033279077539458995], \"xaxis\": \"x\", \"y\": [-0.12926058868569446], \"yaxis\": \"y\"}, {\"hoverlabel\": {\"namelength\": 0}, \"hovertemplate\": \"date=2020-12-15 13:15:57<br>x=%{x}<br>y=%{y}\", \"legendgroup\": \"date=2020-12-15 13:15:57\", \"marker\": {\"color\": \"#ab63fa\", \"symbol\": \"circle\"}, \"mode\": \"markers\", \"name\": \"date=2020-12-15 13:15:57\", \"showlegend\": true, \"type\": \"scatter\", \"x\": [0.059960969384851195], \"xaxis\": \"x\", \"y\": [-0.06958364507393014], \"yaxis\": \"y\"}, {\"hoverlabel\": {\"namelength\": 0}, \"hovertemplate\": \"date=2020-12-15 21:31:09<br>x=%{x}<br>y=%{y}\", \"legendgroup\": \"date=2020-12-15 21:31:09\", \"marker\": {\"color\": \"#FFA15A\", \"symbol\": \"circle\"}, \"mode\": \"markers\", \"name\": \"date=2020-12-15 21:31:09\", \"showlegend\": true, \"type\": \"scatter\", \"x\": [0.029409366363983325, 0.029409366363983325], \"xaxis\": \"x\", \"y\": [-0.12588531442617618, -0.12588531442617618], \"yaxis\": \"y\"}, {\"hoverlabel\": {\"namelength\": 0}, \"hovertemplate\": \"date=2020-12-28 21:37:59<br>x=%{x}<br>y=%{y}\", \"legendgroup\": \"date=2020-12-28 21:37:59\", \"marker\": {\"color\": \"#19d3f3\", \"symbol\": \"circle\"}, \"mode\": \"markers\", \"name\": \"date=2020-12-28 21:37:59\", \"showlegend\": true, \"type\": \"scatter\", \"x\": [-0.03735511553447138], \"xaxis\": \"x\", \"y\": [-0.11174588454212665], \"yaxis\": \"y\"}, {\"hoverlabel\": {\"namelength\": 0}, \"hovertemplate\": \"date=2021-01-14 21:29:33<br>x=%{x}<br>y=%{y}\", \"legendgroup\": \"date=2021-01-14 21:29:33\", \"marker\": {\"color\": \"#FF6692\", \"symbol\": \"circle\"}, \"mode\": \"markers\", \"name\": \"date=2021-01-14 21:29:33\", \"showlegend\": true, \"type\": \"scatter\", \"x\": [-0.029480513714173127], \"xaxis\": \"x\", \"y\": [-0.11807903608487973], \"yaxis\": \"y\"}, {\"hoverlabel\": {\"namelength\": 0}, \"hovertemplate\": \"date=2021-01-26 13:18:57<br>x=%{x}<br>y=%{y}\", \"legendgroup\": \"date=2021-01-26 13:18:57\", \"marker\": {\"color\": \"#B6E880\", \"symbol\": \"circle\"}, \"mode\": \"markers\", \"name\": \"date=2021-01-26 13:18:57\", \"showlegend\": true, \"type\": \"scatter\", \"x\": [-0.03967035783268691], \"xaxis\": \"x\", \"y\": [-0.1038483126193808], \"yaxis\": \"y\"}, {\"hoverlabel\": {\"namelength\": 0}, \"hovertemplate\": \"date=2021-03-22 12:19:28<br>x=%{x}<br>y=%{y}\", \"legendgroup\": \"date=2021-03-22 12:19:28\", \"marker\": {\"color\": \"#FF97FF\", \"symbol\": \"circle\"}, \"mode\": \"markers\", \"name\": \"date=2021-03-22 12:19:28\", \"showlegend\": true, \"type\": \"scatter\", \"x\": [-0.06690579462774704], \"xaxis\": \"x\", \"y\": [-0.11752012838365457], \"yaxis\": \"y\"}, {\"hoverlabel\": {\"namelength\": 0}, \"hovertemplate\": \"date=2021-03-11 12:13:27<br>x=%{x}<br>y=%{y}\", \"legendgroup\": \"date=2021-03-11 12:13:27\", \"marker\": {\"color\": \"#FECB52\", \"symbol\": \"circle\"}, \"mode\": \"markers\", \"name\": \"date=2021-03-11 12:13:27\", \"showlegend\": true, \"type\": \"scatter\", \"x\": [-0.06201750931646255], \"xaxis\": \"x\", \"y\": [-0.07757066886528322], \"yaxis\": \"y\"}, {\"hoverlabel\": {\"namelength\": 0}, \"hovertemplate\": \"date=2021-01-26 21:29:42<br>x=%{x}<br>y=%{y}\", \"legendgroup\": \"date=2021-01-26 21:29:42\", \"marker\": {\"color\": \"#636efa\", \"symbol\": \"circle\"}, \"mode\": \"markers\", \"name\": \"date=2021-01-26 21:29:42\", \"showlegend\": true, \"type\": \"scatter\", \"x\": [-0.018281570637781682], \"xaxis\": \"x\", \"y\": [-0.07885819178641679], \"yaxis\": \"y\"}, {\"hoverlabel\": {\"namelength\": 0}, \"hovertemplate\": \"date=2021-03-19 12:15:59<br>x=%{x}<br>y=%{y}\", \"legendgroup\": \"date=2021-03-19 12:15:59\", \"marker\": {\"color\": \"#EF553B\", \"symbol\": \"circle\"}, \"mode\": \"markers\", \"name\": \"date=2021-03-19 12:15:59\", \"showlegend\": true, \"type\": \"scatter\", \"x\": [0.0309801175002039], \"xaxis\": \"x\", \"y\": [-0.09350446020964227], \"yaxis\": \"y\"}, {\"hoverlabel\": {\"namelength\": 0}, \"hovertemplate\": \"date=2021-01-13 15:49:29<br>x=%{x}<br>y=%{y}\", \"legendgroup\": \"date=2021-01-13 15:49:29\", \"marker\": {\"color\": \"#00cc96\", \"symbol\": \"circle\"}, \"mode\": \"markers\", \"name\": \"date=2021-01-13 15:49:29\", \"showlegend\": true, \"type\": \"scatter\", \"x\": [-0.081447090699982], \"xaxis\": \"x\", \"y\": [-0.03619076545921136], \"yaxis\": \"y\"}, {\"hoverlabel\": {\"namelength\": 0}, \"hovertemplate\": \"date=2021-02-04 17:57:41<br>x=%{x}<br>y=%{y}\", \"legendgroup\": \"date=2021-02-04 17:57:41\", \"marker\": {\"color\": \"#ab63fa\", \"symbol\": \"circle\"}, \"mode\": \"markers\", \"name\": \"date=2021-02-04 17:57:41\", \"showlegend\": true, \"type\": \"scatter\", \"x\": [-0.5509238321253057, -0.5509238321253057, -0.5509238321253057, -0.5509238321253057, -0.5509238321253057, -0.5509238321253057, -0.5509238321253057, -0.5509238321253057, -0.5509238321253057, -0.5509238321253057, -0.5509238321253057, -0.5509238321253057], \"xaxis\": \"x\", \"y\": [0.775875334792084, 0.775875334792084, 0.775875334792084, 0.775875334792084, 0.775875334792084, 0.775875334792084, 0.775875334792084, 0.775875334792084, 0.775875334792084, 0.775875334792084, 0.775875334792084, 0.775875334792084], \"yaxis\": \"y\"}, {\"hoverlabel\": {\"namelength\": 0}, \"hovertemplate\": \"date=2021-02-04 17:57:39<br>x=%{x}<br>y=%{y}\", \"legendgroup\": \"date=2021-02-04 17:57:39\", \"marker\": {\"color\": \"#FFA15A\", \"symbol\": \"circle\"}, \"mode\": \"markers\", \"name\": \"date=2021-02-04 17:57:39\", \"showlegend\": true, \"type\": \"scatter\", \"x\": [-0.5509238321253057], \"xaxis\": \"x\", \"y\": [0.775875334792084], \"yaxis\": \"y\"}, {\"hoverlabel\": {\"namelength\": 0}, \"hovertemplate\": \"date=2021-01-22 12:35:39<br>x=%{x}<br>y=%{y}\", \"legendgroup\": \"date=2021-01-22 12:35:39\", \"marker\": {\"color\": \"#19d3f3\", \"symbol\": \"circle\"}, \"mode\": \"markers\", \"name\": \"date=2021-01-22 12:35:39\", \"showlegend\": true, \"type\": \"scatter\", \"x\": [-0.09320851631327214], \"xaxis\": \"x\", \"y\": [-0.036040975114130264], \"yaxis\": \"y\"}, {\"hoverlabel\": {\"namelength\": 0}, \"hovertemplate\": \"date=2021-01-06 19:01:05<br>x=%{x}<br>y=%{y}\", \"legendgroup\": \"date=2021-01-06 19:01:05\", \"marker\": {\"color\": \"#FF6692\", \"symbol\": \"circle\"}, \"mode\": \"markers\", \"name\": \"date=2021-01-06 19:01:05\", \"showlegend\": true, \"type\": \"scatter\", \"x\": [-0.02391964457015919], \"xaxis\": \"x\", \"y\": [-0.04829971732506369], \"yaxis\": \"y\"}, {\"hoverlabel\": {\"namelength\": 0}, \"hovertemplate\": \"date=2021-01-27 14:41:24<br>x=%{x}<br>y=%{y}\", \"legendgroup\": \"date=2021-01-27 14:41:24\", \"marker\": {\"color\": \"#B6E880\", \"symbol\": \"circle\"}, \"mode\": \"markers\", \"name\": \"date=2021-01-27 14:41:24\", \"showlegend\": true, \"type\": \"scatter\", \"x\": [-0.0696094026461737], \"xaxis\": \"x\", \"y\": [-0.035254601919350766], \"yaxis\": \"y\"}, {\"hoverlabel\": {\"namelength\": 0}, \"hovertemplate\": \"date=2021-03-24 21:08:34<br>x=%{x}<br>y=%{y}\", \"legendgroup\": \"date=2021-03-24 21:08:34\", \"marker\": {\"color\": \"#FF97FF\", \"symbol\": \"circle\"}, \"mode\": \"markers\", \"name\": \"date=2021-03-24 21:08:34\", \"showlegend\": true, \"type\": \"scatter\", \"x\": [-0.043588452435306124], \"xaxis\": \"x\", \"y\": [-0.017880027211426924], \"yaxis\": \"y\"}, {\"hoverlabel\": {\"namelength\": 0}, \"hovertemplate\": \"date=2021-03-11 18:04:44<br>x=%{x}<br>y=%{y}\", \"legendgroup\": \"date=2021-03-11 18:04:44\", \"marker\": {\"color\": \"#FECB52\", \"symbol\": \"circle\"}, \"mode\": \"markers\", \"name\": \"date=2021-03-11 18:04:44\", \"showlegend\": true, \"type\": \"scatter\", \"x\": [-0.07271673802637378], \"xaxis\": \"x\", \"y\": [-0.046591975627404525], \"yaxis\": \"y\"}, {\"hoverlabel\": {\"namelength\": 0}, \"hovertemplate\": \"date=2020-12-28 19:40:05<br>x=%{x}<br>y=%{y}\", \"legendgroup\": \"date=2020-12-28 19:40:05\", \"marker\": {\"color\": \"#636efa\", \"symbol\": \"circle\"}, \"mode\": \"markers\", \"name\": \"date=2020-12-28 19:40:05\", \"showlegend\": true, \"type\": \"scatter\", \"x\": [-0.10266491830313192], \"xaxis\": \"x\", \"y\": [-0.0487488783223284], \"yaxis\": \"y\"}, {\"hoverlabel\": {\"namelength\": 0}, \"hovertemplate\": \"date=2021-03-18 19:04:07<br>x=%{x}<br>y=%{y}\", \"legendgroup\": \"date=2021-03-18 19:04:07\", \"marker\": {\"color\": \"#EF553B\", \"symbol\": \"circle\"}, \"mode\": \"markers\", \"name\": \"date=2021-03-18 19:04:07\", \"showlegend\": true, \"type\": \"scatter\", \"x\": [-0.07517686825310049], \"xaxis\": \"x\", \"y\": [-0.04486972589594539], \"yaxis\": \"y\"}, {\"hoverlabel\": {\"namelength\": 0}, \"hovertemplate\": \"date=2020-12-30 17:57:09<br>x=%{x}<br>y=%{y}\", \"legendgroup\": \"date=2020-12-30 17:57:09\", \"marker\": {\"color\": \"#00cc96\", \"symbol\": \"circle\"}, \"mode\": \"markers\", \"name\": \"date=2020-12-30 17:57:09\", \"showlegend\": true, \"type\": \"scatter\", \"x\": [-0.042213058911144255], \"xaxis\": \"x\", \"y\": [-0.039567540871611954], \"yaxis\": \"y\"}, {\"hoverlabel\": {\"namelength\": 0}, \"hovertemplate\": \"date=2021-01-29 12:18:28<br>x=%{x}<br>y=%{y}\", \"legendgroup\": \"date=2021-01-29 12:18:28\", \"marker\": {\"color\": \"#ab63fa\", \"symbol\": \"circle\"}, \"mode\": \"markers\", \"name\": \"date=2021-01-29 12:18:28\", \"showlegend\": true, \"type\": \"scatter\", \"x\": [-0.03082601606953352], \"xaxis\": \"x\", \"y\": [-0.08119569150520409], \"yaxis\": \"y\"}, {\"hoverlabel\": {\"namelength\": 0}, \"hovertemplate\": \"date=2021-01-27 23:10:01<br>x=%{x}<br>y=%{y}\", \"legendgroup\": \"date=2021-01-27 23:10:01\", \"marker\": {\"color\": \"#FFA15A\", \"symbol\": \"circle\"}, \"mode\": \"markers\", \"name\": \"date=2021-01-27 23:10:01\", \"showlegend\": true, \"type\": \"scatter\", \"x\": [-0.058911002619736544], \"xaxis\": \"x\", \"y\": [-0.04811327114105551], \"yaxis\": \"y\"}, {\"hoverlabel\": {\"namelength\": 0}, \"hovertemplate\": \"date=2021-01-11 12:33:25<br>x=%{x}<br>y=%{y}\", \"legendgroup\": \"date=2021-01-11 12:33:25\", \"marker\": {\"color\": \"#19d3f3\", \"symbol\": \"circle\"}, \"mode\": \"markers\", \"name\": \"date=2021-01-11 12:33:25\", \"showlegend\": true, \"type\": \"scatter\", \"x\": [-0.04194585390623489], \"xaxis\": \"x\", \"y\": [-0.04541100871876265], \"yaxis\": \"y\"}, {\"hoverlabel\": {\"namelength\": 0}, \"hovertemplate\": \"date=2021-01-06 12:19:20<br>x=%{x}<br>y=%{y}\", \"legendgroup\": \"date=2021-01-06 12:19:20\", \"marker\": {\"color\": \"#FF6692\", \"symbol\": \"circle\"}, \"mode\": \"markers\", \"name\": \"date=2021-01-06 12:19:20\", \"showlegend\": true, \"type\": \"scatter\", \"x\": [-0.03324602336463715], \"xaxis\": \"x\", \"y\": [-0.06403410696354725], \"yaxis\": \"y\"}, {\"hoverlabel\": {\"namelength\": 0}, \"hovertemplate\": \"date=2020-12-30 14:18:57<br>x=%{x}<br>y=%{y}\", \"legendgroup\": \"date=2020-12-30 14:18:57\", \"marker\": {\"color\": \"#B6E880\", \"symbol\": \"circle\"}, \"mode\": \"markers\", \"name\": \"date=2020-12-30 14:18:57\", \"showlegend\": true, \"type\": \"scatter\", \"x\": [-0.06783274825497672], \"xaxis\": \"x\", \"y\": [-0.035326237708075504], \"yaxis\": \"y\"}, {\"hoverlabel\": {\"namelength\": 0}, \"hovertemplate\": \"date=2021-01-07 21:26:35<br>x=%{x}<br>y=%{y}\", \"legendgroup\": \"date=2021-01-07 21:26:35\", \"marker\": {\"color\": \"#FF97FF\", \"symbol\": \"circle\"}, \"mode\": \"markers\", \"name\": \"date=2021-01-07 21:26:35\", \"showlegend\": true, \"type\": \"scatter\", \"x\": [-0.031704211604008], \"xaxis\": \"x\", \"y\": [-0.05299238897926471], \"yaxis\": \"y\"}, {\"hoverlabel\": {\"namelength\": 0}, \"hovertemplate\": \"date=2021-01-25 21:09:36<br>x=%{x}<br>y=%{y}\", \"legendgroup\": \"date=2021-01-25 21:09:36\", \"marker\": {\"color\": \"#FECB52\", \"symbol\": \"circle\"}, \"mode\": \"markers\", \"name\": \"date=2021-01-25 21:09:36\", \"showlegend\": true, \"type\": \"scatter\", \"x\": [0.013704939088127126], \"xaxis\": \"x\", \"y\": [-0.021129794455302553], \"yaxis\": \"y\"}, {\"hoverlabel\": {\"namelength\": 0}, \"hovertemplate\": \"date=2020-12-21 14:16:37<br>x=%{x}<br>y=%{y}\", \"legendgroup\": \"date=2020-12-21 14:16:37\", \"marker\": {\"color\": \"#636efa\", \"symbol\": \"circle\"}, \"mode\": \"markers\", \"name\": \"date=2020-12-21 14:16:37\", \"showlegend\": true, \"type\": \"scatter\", \"x\": [-0.08929778152310323], \"xaxis\": \"x\", \"y\": [-0.04453192650710089], \"yaxis\": \"y\"}, {\"hoverlabel\": {\"namelength\": 0}, \"hovertemplate\": \"date=2021-03-08 20:38:18<br>x=%{x}<br>y=%{y}\", \"legendgroup\": \"date=2021-03-08 20:38:18\", \"marker\": {\"color\": \"#EF553B\", \"symbol\": \"circle\"}, \"mode\": \"markers\", \"name\": \"date=2021-03-08 20:38:18\", \"showlegend\": true, \"type\": \"scatter\", \"x\": [-0.08550793355348212], \"xaxis\": \"x\", \"y\": [-0.043056694158830955], \"yaxis\": \"y\"}, {\"hoverlabel\": {\"namelength\": 0}, \"hovertemplate\": \"date=2021-01-11 19:18:41<br>x=%{x}<br>y=%{y}\", \"legendgroup\": \"date=2021-01-11 19:18:41\", \"marker\": {\"color\": \"#00cc96\", \"symbol\": \"circle\"}, \"mode\": \"markers\", \"name\": \"date=2021-01-11 19:18:41\", \"showlegend\": true, \"type\": \"scatter\", \"x\": [-0.03045151452285476], \"xaxis\": \"x\", \"y\": [-0.03142137842686367], \"yaxis\": \"y\"}, {\"hoverlabel\": {\"namelength\": 0}, \"hovertemplate\": \"date=2020-12-09 12:15:51<br>x=%{x}<br>y=%{y}\", \"legendgroup\": \"date=2020-12-09 12:15:51\", \"marker\": {\"color\": \"#ab63fa\", \"symbol\": \"circle\"}, \"mode\": \"markers\", \"name\": \"date=2020-12-09 12:15:51\", \"showlegend\": true, \"type\": \"scatter\", \"x\": [-0.061549509544033064], \"xaxis\": \"x\", \"y\": [-0.04018400016817481], \"yaxis\": \"y\"}, {\"hoverlabel\": {\"namelength\": 0}, \"hovertemplate\": \"date=2021-01-06 22:15:31<br>x=%{x}<br>y=%{y}\", \"legendgroup\": \"date=2021-01-06 22:15:31\", \"marker\": {\"color\": \"#FFA15A\", \"symbol\": \"circle\"}, \"mode\": \"markers\", \"name\": \"date=2021-01-06 22:15:31\", \"showlegend\": true, \"type\": \"scatter\", \"x\": [-0.10548769164695802], \"xaxis\": \"x\", \"y\": [-0.05872002399758877], \"yaxis\": \"y\"}, {\"hoverlabel\": {\"namelength\": 0}, \"hovertemplate\": \"date=2021-02-26 17:34:28<br>x=%{x}<br>y=%{y}\", \"legendgroup\": \"date=2021-02-26 17:34:28\", \"marker\": {\"color\": \"#19d3f3\", \"symbol\": \"circle\"}, \"mode\": \"markers\", \"name\": \"date=2021-02-26 17:34:28\", \"showlegend\": true, \"type\": \"scatter\", \"x\": [-0.06341581209100466], \"xaxis\": \"x\", \"y\": [-0.041522121243267845], \"yaxis\": \"y\"}, {\"hoverlabel\": {\"namelength\": 0}, \"hovertemplate\": \"date=2021-01-21 11:05:56<br>x=%{x}<br>y=%{y}\", \"legendgroup\": \"date=2021-01-21 11:05:56\", \"marker\": {\"color\": \"#FF6692\", \"symbol\": \"circle\"}, \"mode\": \"markers\", \"name\": \"date=2021-01-21 11:05:56\", \"showlegend\": true, \"type\": \"scatter\", \"x\": [0.01739887189617412], \"xaxis\": \"x\", \"y\": [0.004498210648133738], \"yaxis\": \"y\"}, {\"hoverlabel\": {\"namelength\": 0}, \"hovertemplate\": \"date=2020-12-02 14:36:52<br>x=%{x}<br>y=%{y}\", \"legendgroup\": \"date=2020-12-02 14:36:52\", \"marker\": {\"color\": \"#B6E880\", \"symbol\": \"circle\"}, \"mode\": \"markers\", \"name\": \"date=2020-12-02 14:36:52\", \"showlegend\": true, \"type\": \"scatter\", \"x\": [-0.07433101557047703], \"xaxis\": \"x\", \"y\": [-0.03874898280276241], \"yaxis\": \"y\"}, {\"hoverlabel\": {\"namelength\": 0}, \"hovertemplate\": \"date=2021-02-04 20:10:30<br>x=%{x}<br>y=%{y}\", \"legendgroup\": \"date=2021-02-04 20:10:30\", \"marker\": {\"color\": \"#FF97FF\", \"symbol\": \"circle\"}, \"mode\": \"markers\", \"name\": \"date=2021-02-04 20:10:30\", \"showlegend\": true, \"type\": \"scatter\", \"x\": [-0.08509556982068331], \"xaxis\": \"x\", \"y\": [-0.01788880516584149], \"yaxis\": \"y\"}, {\"hoverlabel\": {\"namelength\": 0}, \"hovertemplate\": \"date=2021-01-07 13:06:05<br>x=%{x}<br>y=%{y}\", \"legendgroup\": \"date=2021-01-07 13:06:05\", \"marker\": {\"color\": \"#FECB52\", \"symbol\": \"circle\"}, \"mode\": \"markers\", \"name\": \"date=2021-01-07 13:06:05\", \"showlegend\": true, \"type\": \"scatter\", \"x\": [-0.07440585516837539], \"xaxis\": \"x\", \"y\": [-0.06718045655366692], \"yaxis\": \"y\"}, {\"hoverlabel\": {\"namelength\": 0}, \"hovertemplate\": \"date=2020-12-14 11:32:08<br>x=%{x}<br>y=%{y}\", \"legendgroup\": \"date=2020-12-14 11:32:08\", \"marker\": {\"color\": \"#636efa\", \"symbol\": \"circle\"}, \"mode\": \"markers\", \"name\": \"date=2020-12-14 11:32:08\", \"showlegend\": true, \"type\": \"scatter\", \"x\": [-0.07182263693016412], \"xaxis\": \"x\", \"y\": [-0.03771252828225474], \"yaxis\": \"y\"}, {\"hoverlabel\": {\"namelength\": 0}, \"hovertemplate\": \"date=2021-01-19 08:01:20<br>x=%{x}<br>y=%{y}\", \"legendgroup\": \"date=2021-01-19 08:01:20\", \"marker\": {\"color\": \"#EF553B\", \"symbol\": \"circle\"}, \"mode\": \"markers\", \"name\": \"date=2021-01-19 08:01:20\", \"showlegend\": true, \"type\": \"scatter\", \"x\": [-0.027895899444954825], \"xaxis\": \"x\", \"y\": [-0.010854773201333628], \"yaxis\": \"y\"}, {\"hoverlabel\": {\"namelength\": 0}, \"hovertemplate\": \"date=2020-12-07 10:44:48<br>x=%{x}<br>y=%{y}\", \"legendgroup\": \"date=2020-12-07 10:44:48\", \"marker\": {\"color\": \"#00cc96\", \"symbol\": \"circle\"}, \"mode\": \"markers\", \"name\": \"date=2020-12-07 10:44:48\", \"showlegend\": true, \"type\": \"scatter\", \"x\": [-0.03518111811364245], \"xaxis\": \"x\", \"y\": [-0.05552301561024707], \"yaxis\": \"y\"}, {\"hoverlabel\": {\"namelength\": 0}, \"hovertemplate\": \"date=2020-12-04 17:50:49<br>x=%{x}<br>y=%{y}\", \"legendgroup\": \"date=2020-12-04 17:50:49\", \"marker\": {\"color\": \"#ab63fa\", \"symbol\": \"circle\"}, \"mode\": \"markers\", \"name\": \"date=2020-12-04 17:50:49\", \"showlegend\": true, \"type\": \"scatter\", \"x\": [-0.07276490818857785], \"xaxis\": \"x\", \"y\": [-0.05396233070111906], \"yaxis\": \"y\"}, {\"hoverlabel\": {\"namelength\": 0}, \"hovertemplate\": \"date=2021-01-07 23:13:21<br>x=%{x}<br>y=%{y}\", \"legendgroup\": \"date=2021-01-07 23:13:21\", \"marker\": {\"color\": \"#FFA15A\", \"symbol\": \"circle\"}, \"mode\": \"markers\", \"name\": \"date=2021-01-07 23:13:21\", \"showlegend\": true, \"type\": \"scatter\", \"x\": [-0.06413100476391466], \"xaxis\": \"x\", \"y\": [-0.0282075498239011], \"yaxis\": \"y\"}, {\"hoverlabel\": {\"namelength\": 0}, \"hovertemplate\": \"date=2020-12-03 23:55:49<br>x=%{x}<br>y=%{y}\", \"legendgroup\": \"date=2020-12-03 23:55:49\", \"marker\": {\"color\": \"#19d3f3\", \"symbol\": \"circle\"}, \"mode\": \"markers\", \"name\": \"date=2020-12-03 23:55:49\", \"showlegend\": true, \"type\": \"scatter\", \"x\": [-0.08064063320459144], \"xaxis\": \"x\", \"y\": [-0.03101297892064072], \"yaxis\": \"y\"}, {\"hoverlabel\": {\"namelength\": 0}, \"hovertemplate\": \"date=2020-12-05 09:00:57<br>x=%{x}<br>y=%{y}\", \"legendgroup\": \"date=2020-12-05 09:00:57\", \"marker\": {\"color\": \"#FF6692\", \"symbol\": \"circle\"}, \"mode\": \"markers\", \"name\": \"date=2020-12-05 09:00:57\", \"showlegend\": true, \"type\": \"scatter\", \"x\": [-0.055430137676223075], \"xaxis\": \"x\", \"y\": [-0.039318269708068634], \"yaxis\": \"y\"}, {\"hoverlabel\": {\"namelength\": 0}, \"hovertemplate\": \"date=2021-01-07 20:23:28<br>x=%{x}<br>y=%{y}\", \"legendgroup\": \"date=2021-01-07 20:23:28\", \"marker\": {\"color\": \"#B6E880\", \"symbol\": \"circle\"}, \"mode\": \"markers\", \"name\": \"date=2021-01-07 20:23:28\", \"showlegend\": true, \"type\": \"scatter\", \"x\": [-0.06730326424466652], \"xaxis\": \"x\", \"y\": [-0.03975435788536362], \"yaxis\": \"y\"}, {\"hoverlabel\": {\"namelength\": 0}, \"hovertemplate\": \"date=2021-01-11 01:11:25<br>x=%{x}<br>y=%{y}\", \"legendgroup\": \"date=2021-01-11 01:11:25\", \"marker\": {\"color\": \"#FF97FF\", \"symbol\": \"circle\"}, \"mode\": \"markers\", \"name\": \"date=2021-01-11 01:11:25\", \"showlegend\": true, \"type\": \"scatter\", \"x\": [-0.07176888387612917], \"xaxis\": \"x\", \"y\": [-0.05130639879947747], \"yaxis\": \"y\"}],\n",
              "                        {\"legend\": {\"tracegroupgap\": 0}, \"template\": {\"data\": {\"bar\": [{\"error_x\": {\"color\": \"#2a3f5f\"}, \"error_y\": {\"color\": \"#2a3f5f\"}, \"marker\": {\"line\": {\"color\": \"#E5ECF6\", \"width\": 0.5}}, \"type\": \"bar\"}], \"barpolar\": [{\"marker\": {\"line\": {\"color\": \"#E5ECF6\", \"width\": 0.5}}, \"type\": \"barpolar\"}], \"carpet\": [{\"aaxis\": {\"endlinecolor\": \"#2a3f5f\", \"gridcolor\": \"white\", \"linecolor\": \"white\", \"minorgridcolor\": \"white\", \"startlinecolor\": \"#2a3f5f\"}, \"baxis\": {\"endlinecolor\": \"#2a3f5f\", \"gridcolor\": \"white\", \"linecolor\": \"white\", \"minorgridcolor\": \"white\", \"startlinecolor\": \"#2a3f5f\"}, \"type\": \"carpet\"}], \"choropleth\": [{\"colorbar\": {\"outlinewidth\": 0, \"ticks\": \"\"}, \"type\": \"choropleth\"}], \"contour\": [{\"colorbar\": {\"outlinewidth\": 0, \"ticks\": \"\"}, \"colorscale\": [[0.0, \"#0d0887\"], [0.1111111111111111, \"#46039f\"], [0.2222222222222222, \"#7201a8\"], [0.3333333333333333, \"#9c179e\"], [0.4444444444444444, \"#bd3786\"], [0.5555555555555556, \"#d8576b\"], [0.6666666666666666, \"#ed7953\"], [0.7777777777777778, \"#fb9f3a\"], [0.8888888888888888, \"#fdca26\"], [1.0, \"#f0f921\"]], \"type\": \"contour\"}], \"contourcarpet\": [{\"colorbar\": {\"outlinewidth\": 0, \"ticks\": \"\"}, \"type\": \"contourcarpet\"}], \"heatmap\": [{\"colorbar\": {\"outlinewidth\": 0, \"ticks\": \"\"}, \"colorscale\": [[0.0, \"#0d0887\"], [0.1111111111111111, \"#46039f\"], [0.2222222222222222, \"#7201a8\"], [0.3333333333333333, \"#9c179e\"], [0.4444444444444444, \"#bd3786\"], [0.5555555555555556, \"#d8576b\"], [0.6666666666666666, \"#ed7953\"], [0.7777777777777778, \"#fb9f3a\"], [0.8888888888888888, \"#fdca26\"], [1.0, \"#f0f921\"]], \"type\": \"heatmap\"}], \"heatmapgl\": [{\"colorbar\": {\"outlinewidth\": 0, \"ticks\": \"\"}, \"colorscale\": [[0.0, \"#0d0887\"], [0.1111111111111111, \"#46039f\"], [0.2222222222222222, \"#7201a8\"], [0.3333333333333333, \"#9c179e\"], [0.4444444444444444, \"#bd3786\"], [0.5555555555555556, \"#d8576b\"], [0.6666666666666666, \"#ed7953\"], [0.7777777777777778, \"#fb9f3a\"], [0.8888888888888888, \"#fdca26\"], [1.0, \"#f0f921\"]], \"type\": \"heatmapgl\"}], \"histogram\": [{\"marker\": {\"colorbar\": {\"outlinewidth\": 0, \"ticks\": \"\"}}, \"type\": \"histogram\"}], \"histogram2d\": [{\"colorbar\": {\"outlinewidth\": 0, \"ticks\": \"\"}, \"colorscale\": [[0.0, \"#0d0887\"], [0.1111111111111111, \"#46039f\"], [0.2222222222222222, \"#7201a8\"], [0.3333333333333333, \"#9c179e\"], [0.4444444444444444, \"#bd3786\"], [0.5555555555555556, \"#d8576b\"], [0.6666666666666666, \"#ed7953\"], [0.7777777777777778, \"#fb9f3a\"], [0.8888888888888888, \"#fdca26\"], [1.0, \"#f0f921\"]], \"type\": \"histogram2d\"}], \"histogram2dcontour\": [{\"colorbar\": {\"outlinewidth\": 0, \"ticks\": \"\"}, \"colorscale\": [[0.0, \"#0d0887\"], [0.1111111111111111, \"#46039f\"], [0.2222222222222222, \"#7201a8\"], [0.3333333333333333, \"#9c179e\"], [0.4444444444444444, \"#bd3786\"], [0.5555555555555556, \"#d8576b\"], [0.6666666666666666, \"#ed7953\"], [0.7777777777777778, \"#fb9f3a\"], [0.8888888888888888, \"#fdca26\"], [1.0, \"#f0f921\"]], \"type\": \"histogram2dcontour\"}], \"mesh3d\": [{\"colorbar\": {\"outlinewidth\": 0, \"ticks\": \"\"}, \"type\": \"mesh3d\"}], \"parcoords\": [{\"line\": {\"colorbar\": {\"outlinewidth\": 0, \"ticks\": \"\"}}, \"type\": \"parcoords\"}], \"pie\": [{\"automargin\": true, \"type\": \"pie\"}], \"scatter\": [{\"marker\": {\"colorbar\": {\"outlinewidth\": 0, \"ticks\": \"\"}}, \"type\": \"scatter\"}], \"scatter3d\": [{\"line\": {\"colorbar\": {\"outlinewidth\": 0, \"ticks\": \"\"}}, \"marker\": {\"colorbar\": {\"outlinewidth\": 0, \"ticks\": \"\"}}, \"type\": \"scatter3d\"}], \"scattercarpet\": [{\"marker\": {\"colorbar\": {\"outlinewidth\": 0, \"ticks\": \"\"}}, \"type\": \"scattercarpet\"}], \"scattergeo\": [{\"marker\": {\"colorbar\": {\"outlinewidth\": 0, \"ticks\": \"\"}}, \"type\": \"scattergeo\"}], \"scattergl\": [{\"marker\": {\"colorbar\": {\"outlinewidth\": 0, \"ticks\": \"\"}}, \"type\": \"scattergl\"}], \"scattermapbox\": [{\"marker\": {\"colorbar\": {\"outlinewidth\": 0, \"ticks\": \"\"}}, \"type\": \"scattermapbox\"}], \"scatterpolar\": [{\"marker\": {\"colorbar\": {\"outlinewidth\": 0, \"ticks\": \"\"}}, \"type\": \"scatterpolar\"}], \"scatterpolargl\": [{\"marker\": {\"colorbar\": {\"outlinewidth\": 0, \"ticks\": \"\"}}, \"type\": \"scatterpolargl\"}], \"scatterternary\": [{\"marker\": {\"colorbar\": {\"outlinewidth\": 0, \"ticks\": \"\"}}, \"type\": \"scatterternary\"}], \"surface\": [{\"colorbar\": {\"outlinewidth\": 0, \"ticks\": \"\"}, \"colorscale\": [[0.0, \"#0d0887\"], [0.1111111111111111, \"#46039f\"], [0.2222222222222222, \"#7201a8\"], [0.3333333333333333, \"#9c179e\"], [0.4444444444444444, \"#bd3786\"], [0.5555555555555556, \"#d8576b\"], [0.6666666666666666, \"#ed7953\"], [0.7777777777777778, \"#fb9f3a\"], [0.8888888888888888, \"#fdca26\"], [1.0, \"#f0f921\"]], \"type\": \"surface\"}], \"table\": [{\"cells\": {\"fill\": {\"color\": \"#EBF0F8\"}, \"line\": {\"color\": \"white\"}}, \"header\": {\"fill\": {\"color\": \"#C8D4E3\"}, \"line\": {\"color\": \"white\"}}, \"type\": \"table\"}]}, \"layout\": {\"annotationdefaults\": {\"arrowcolor\": \"#2a3f5f\", \"arrowhead\": 0, \"arrowwidth\": 1}, \"coloraxis\": {\"colorbar\": {\"outlinewidth\": 0, \"ticks\": \"\"}}, \"colorscale\": {\"diverging\": [[0, \"#8e0152\"], [0.1, \"#c51b7d\"], [0.2, \"#de77ae\"], [0.3, \"#f1b6da\"], [0.4, \"#fde0ef\"], [0.5, \"#f7f7f7\"], [0.6, \"#e6f5d0\"], [0.7, \"#b8e186\"], [0.8, \"#7fbc41\"], [0.9, \"#4d9221\"], [1, \"#276419\"]], \"sequential\": [[0.0, \"#0d0887\"], [0.1111111111111111, \"#46039f\"], [0.2222222222222222, \"#7201a8\"], [0.3333333333333333, \"#9c179e\"], [0.4444444444444444, \"#bd3786\"], [0.5555555555555556, \"#d8576b\"], [0.6666666666666666, \"#ed7953\"], [0.7777777777777778, \"#fb9f3a\"], [0.8888888888888888, \"#fdca26\"], [1.0, \"#f0f921\"]], \"sequentialminus\": [[0.0, \"#0d0887\"], [0.1111111111111111, \"#46039f\"], [0.2222222222222222, \"#7201a8\"], [0.3333333333333333, \"#9c179e\"], [0.4444444444444444, \"#bd3786\"], [0.5555555555555556, \"#d8576b\"], [0.6666666666666666, \"#ed7953\"], [0.7777777777777778, \"#fb9f3a\"], [0.8888888888888888, \"#fdca26\"], [1.0, \"#f0f921\"]]}, \"colorway\": [\"#636efa\", \"#EF553B\", \"#00cc96\", \"#ab63fa\", \"#FFA15A\", \"#19d3f3\", \"#FF6692\", \"#B6E880\", \"#FF97FF\", \"#FECB52\"], \"font\": {\"color\": \"#2a3f5f\"}, \"geo\": {\"bgcolor\": \"white\", \"lakecolor\": \"white\", \"landcolor\": \"#E5ECF6\", \"showlakes\": true, \"showland\": true, \"subunitcolor\": \"white\"}, \"hoverlabel\": {\"align\": \"left\"}, \"hovermode\": \"closest\", \"mapbox\": {\"style\": \"light\"}, \"paper_bgcolor\": \"white\", \"plot_bgcolor\": \"#E5ECF6\", \"polar\": {\"angularaxis\": {\"gridcolor\": \"white\", \"linecolor\": \"white\", \"ticks\": \"\"}, \"bgcolor\": \"#E5ECF6\", \"radialaxis\": {\"gridcolor\": \"white\", \"linecolor\": \"white\", \"ticks\": \"\"}}, \"scene\": {\"xaxis\": {\"backgroundcolor\": \"#E5ECF6\", \"gridcolor\": \"white\", \"gridwidth\": 2, \"linecolor\": \"white\", \"showbackground\": true, \"ticks\": \"\", \"zerolinecolor\": \"white\"}, \"yaxis\": {\"backgroundcolor\": \"#E5ECF6\", \"gridcolor\": \"white\", \"gridwidth\": 2, \"linecolor\": \"white\", \"showbackground\": true, \"ticks\": \"\", \"zerolinecolor\": \"white\"}, \"zaxis\": {\"backgroundcolor\": \"#E5ECF6\", \"gridcolor\": \"white\", \"gridwidth\": 2, \"linecolor\": \"white\", \"showbackground\": true, \"ticks\": \"\", \"zerolinecolor\": \"white\"}}, \"shapedefaults\": {\"line\": {\"color\": \"#2a3f5f\"}}, \"ternary\": {\"aaxis\": {\"gridcolor\": \"white\", \"linecolor\": \"white\", \"ticks\": \"\"}, \"baxis\": {\"gridcolor\": \"white\", \"linecolor\": \"white\", \"ticks\": \"\"}, \"bgcolor\": \"#E5ECF6\", \"caxis\": {\"gridcolor\": \"white\", \"linecolor\": \"white\", \"ticks\": \"\"}}, \"title\": {\"x\": 0.05}, \"xaxis\": {\"automargin\": true, \"gridcolor\": \"white\", \"linecolor\": \"white\", \"ticks\": \"\", \"title\": {\"standoff\": 15}, \"zerolinecolor\": \"white\", \"zerolinewidth\": 2}, \"yaxis\": {\"automargin\": true, \"gridcolor\": \"white\", \"linecolor\": \"white\", \"ticks\": \"\", \"title\": {\"standoff\": 15}, \"zerolinecolor\": \"white\", \"zerolinewidth\": 2}}}, \"title\": {\"text\": \"Economy News\"}, \"xaxis\": {\"anchor\": \"y\", \"domain\": [0.0, 1.0], \"title\": {\"text\": \"x\"}}, \"yaxis\": {\"anchor\": \"x\", \"domain\": [0.0, 1.0], \"title\": {\"text\": \"y\"}}},\n",
              "                        {\"responsive\": true}\n",
              "                    ).then(function(){\n",
              "                            \n",
              "var gd = document.getElementById('7ba7f8ac-4f12-488c-8e53-f9b3eef48387');\n",
              "var x = new MutationObserver(function (mutations, observer) {{\n",
              "        var display = window.getComputedStyle(gd).display;\n",
              "        if (!display || display === 'none') {{\n",
              "            console.log([gd, 'removed!']);\n",
              "            Plotly.purge(gd);\n",
              "            observer.disconnect();\n",
              "        }}\n",
              "}});\n",
              "\n",
              "// Listen for the removal of the full notebook cells\n",
              "var notebookContainer = gd.closest('#notebook-container');\n",
              "if (notebookContainer) {{\n",
              "    x.observe(notebookContainer, {childList: true});\n",
              "}}\n",
              "\n",
              "// Listen for the clearing of the current output cell\n",
              "var outputEl = gd.closest('.output');\n",
              "if (outputEl) {{\n",
              "    x.observe(outputEl, {childList: true});\n",
              "}}\n",
              "\n",
              "                        })\n",
              "                };\n",
              "                \n",
              "            </script>\n",
              "        </div>\n",
              "</body>\n",
              "</html>"
            ]
          },
          "metadata": {
            "tags": []
          }
        }
      ]
    },
    {
      "cell_type": "markdown",
      "metadata": {
        "id": "OYsodaw1Z1UI"
      },
      "source": [
        "Importa cotação do dolar"
      ]
    },
    {
      "cell_type": "code",
      "metadata": {
        "id": "oNhvega34Gfv",
        "colab": {
          "base_uri": "https://localhost:8080/"
        },
        "outputId": "ee479a69-5adb-4f3d-d263-b96a9d548f77"
      },
      "source": [
        "df_dolar_real = pd.read_csv('/content/drive/MyDrive/ai/USD_BRL.csv')\n",
        "\n",
        "df_dolar_real.rename(columns = {\"Último\": \"Ultimo\"},inplace=True)\n",
        "df_dolar_real.rename(columns = {\"Var%\": \"Var\"},inplace=True)\n",
        "df_dolar_real.rename(columns = {\"Data\": \"date\"},inplace=True)\n",
        "\n",
        "df_dolar_real['date'] = pd.to_datetime(df_dolar_real['date'], format='%d.%m.%Y')\n",
        "df_dolar_real['date'] = df_dolar_real['date'].dt.normalize()\n",
        "\n",
        "# df_dolar_real['Ultimo'] = df_dolar_real['Ultimo'].astype(int)\n",
        "df_dolar_real = df_dolar_real.replace(',','.', regex=True)\n",
        "df_dolar_real = df_dolar_real.replace('%','', regex=True)\n",
        "df_dolar_real['Ultimo'] = pd.to_numeric(df_dolar_real['Ultimo'])\n",
        "df_dolar_real['Máxima'] = pd.to_numeric(df_dolar_real['Máxima'])\n",
        "df_dolar_real['Mínima'] = pd.to_numeric(df_dolar_real['Mínima'])\n",
        "\n",
        "print(df_dolar_real.head(10))\n"
      ],
      "execution_count": null,
      "outputs": [
        {
          "output_type": "stream",
          "text": [
            "        date  Ultimo Abertura  Máxima  Mínima    Var\n",
            "0 2021-03-24  5.6213   5.5223  5.6418  5.4899   1.81\n",
            "1 2021-03-23  5.5214   5.5045  5.5509  5.4640   0.31\n",
            "2 2021-03-22  5.5045   5.5087  5.5483  5.4936   0.23\n",
            "3 2021-03-19  5.4917   5.5609  5.5640  5.4482  -1.24\n",
            "4 2021-03-18  5.5604   5.5860  5.5860  5.4763  -0.44\n",
            "5 2021-03-17  5.5847   5.6236  5.6810  5.5695  -0.71\n",
            "6 2021-03-16  5.6248   5.6252  5.6319  5.5578   0.16\n",
            "7 2021-03-15  5.6156   5.5501  5.6568  5.5310   1.15\n",
            "8 2021-03-12  5.5518   5.5362  5.5873  5.5324   0.29\n",
            "9 2021-03-11  5.5357   5.6078  5.6215  5.5257  -2.41\n"
          ],
          "name": "stdout"
        }
      ]
    },
    {
      "cell_type": "code",
      "metadata": {
        "id": "7tsCj1MrCW9a"
      },
      "source": [
        "\n",
        "pd_text['date'] = pd.to_datetime(pd_text.date).dt.tz_localize(None)\n",
        "pd_text['date'] = pd_text['date'].dt.normalize()\n"
      ],
      "execution_count": null,
      "outputs": []
    },
    {
      "cell_type": "code",
      "metadata": {
        "id": "u3jCw9Nb4Mb9",
        "colab": {
          "base_uri": "https://localhost:8080/",
          "height": 359
        },
        "outputId": "1e9c5a48-0846-47f7-cf0f-7de084e80943"
      },
      "source": [
        "# pd_text.drop_duplicates()\n",
        "df_dolar_real.drop_duplicates()\n",
        "pd_merge_media = pd.merge(pd_text[[\"title\",\"date\"]],df_dolar_real[['date','Var']])\n",
        "pd_merge_media.head(10)\n"
      ],
      "execution_count": null,
      "outputs": [
        {
          "output_type": "execute_result",
          "data": {
            "text/html": [
              "<div>\n",
              "<style scoped>\n",
              "    .dataframe tbody tr th:only-of-type {\n",
              "        vertical-align: middle;\n",
              "    }\n",
              "\n",
              "    .dataframe tbody tr th {\n",
              "        vertical-align: top;\n",
              "    }\n",
              "\n",
              "    .dataframe thead th {\n",
              "        text-align: right;\n",
              "    }\n",
              "</style>\n",
              "<table border=\"1\" class=\"dataframe\">\n",
              "  <thead>\n",
              "    <tr style=\"text-align: right;\">\n",
              "      <th></th>\n",
              "      <th>title</th>\n",
              "      <th>date</th>\n",
              "      <th>Var</th>\n",
              "    </tr>\n",
              "  </thead>\n",
              "  <tbody>\n",
              "    <tr>\n",
              "      <th>0</th>\n",
              "      <td>Dólar</td>\n",
              "      <td>2021-02-26</td>\n",
              "      <td>1.23</td>\n",
              "    </tr>\n",
              "    <tr>\n",
              "      <th>1</th>\n",
              "      <td>Ibovespa sobe com atenção a resultados de empr...</td>\n",
              "      <td>2021-02-26</td>\n",
              "      <td>1.23</td>\n",
              "    </tr>\n",
              "    <tr>\n",
              "      <th>2</th>\n",
              "      <td>Ibovespa fecha em queda de 4,4% no mês em meio...</td>\n",
              "      <td>2021-02-26</td>\n",
              "      <td>1.23</td>\n",
              "    </tr>\n",
              "    <tr>\n",
              "      <th>3</th>\n",
              "      <td>Ibovespa Futuro sobe descolado do exterior com...</td>\n",
              "      <td>2021-02-26</td>\n",
              "      <td>1.23</td>\n",
              "    </tr>\n",
              "    <tr>\n",
              "      <th>4</th>\n",
              "      <td>Banco Central registra lucro de R$ 469 bilhões...</td>\n",
              "      <td>2021-02-26</td>\n",
              "      <td>1.23</td>\n",
              "    </tr>\n",
              "    <tr>\n",
              "      <th>5</th>\n",
              "      <td>Dólar</td>\n",
              "      <td>2020-12-03</td>\n",
              "      <td>-1.26</td>\n",
              "    </tr>\n",
              "    <tr>\n",
              "      <th>6</th>\n",
              "      <td>Teoria de ciclo baixista do dólar em mercado g...</td>\n",
              "      <td>2020-12-03</td>\n",
              "      <td>-1.26</td>\n",
              "    </tr>\n",
              "    <tr>\n",
              "      <th>7</th>\n",
              "      <td>Ibovespa sobe com investidores atentos a PIB, ...</td>\n",
              "      <td>2020-12-03</td>\n",
              "      <td>-1.26</td>\n",
              "    </tr>\n",
              "    <tr>\n",
              "      <th>8</th>\n",
              "      <td>Ibovespa fecha em leve alta, mas ganhos são li...</td>\n",
              "      <td>2020-12-03</td>\n",
              "      <td>-1.26</td>\n",
              "    </tr>\n",
              "    <tr>\n",
              "      <th>9</th>\n",
              "      <td>Disparam encomendas de robô brasileiro que ali...</td>\n",
              "      <td>2020-12-03</td>\n",
              "      <td>-1.26</td>\n",
              "    </tr>\n",
              "  </tbody>\n",
              "</table>\n",
              "</div>"
            ],
            "text/plain": [
              "                                               title       date    Var\n",
              "0                                              Dólar 2021-02-26   1.23\n",
              "1  Ibovespa sobe com atenção a resultados de empr... 2021-02-26   1.23\n",
              "2  Ibovespa fecha em queda de 4,4% no mês em meio... 2021-02-26   1.23\n",
              "3  Ibovespa Futuro sobe descolado do exterior com... 2021-02-26   1.23\n",
              "4  Banco Central registra lucro de R$ 469 bilhões... 2021-02-26   1.23\n",
              "5                                              Dólar 2020-12-03  -1.26\n",
              "6  Teoria de ciclo baixista do dólar em mercado g... 2020-12-03  -1.26\n",
              "7  Ibovespa sobe com investidores atentos a PIB, ... 2020-12-03  -1.26\n",
              "8  Ibovespa fecha em leve alta, mas ganhos são li... 2020-12-03  -1.26\n",
              "9  Disparam encomendas de robô brasileiro que ali... 2020-12-03  -1.26"
            ]
          },
          "metadata": {
            "tags": []
          },
          "execution_count": 8
        }
      ]
    },
    {
      "cell_type": "code",
      "metadata": {
        "id": "xMnIeOhqFNfy"
      },
      "source": [
        "def var_dolar(fvar):\n",
        "  ivar = 0\n",
        "  ivar = float(fvar['Var'])\n",
        "  if ivar>0:\n",
        "    return 0\n",
        "  else:\n",
        "    return 1\n",
        "\n",
        "# var_dolar(-2)\n",
        "\n",
        "pd_merge_media['var-dolar'] = pd_merge_media.apply(var_dolar, axis=1)\n"
      ],
      "execution_count": null,
      "outputs": []
    },
    {
      "cell_type": "markdown",
      "metadata": {
        "id": "v3uJcl21HZ0e"
      },
      "source": [
        "Retira stopwords"
      ]
    },
    {
      "cell_type": "code",
      "metadata": {
        "id": "KKG_DjWeHXtv",
        "colab": {
          "base_uri": "https://localhost:8080/",
          "height": 393
        },
        "outputId": "332856e3-d549-44b0-a905-a7a0e65be6e1"
      },
      "source": [
        "nltk.download('stopwords')\n",
        "stopwords = nltk.corpus.stopwords.words('portuguese')\n",
        "pd_merge_media['title'] = hero.remove_stopwords(pd_merge_media['title'], stopwords)\n",
        "pd_merge_media.head(10)\n",
        "# jsonify(pd_merge_media)"
      ],
      "execution_count": null,
      "outputs": [
        {
          "output_type": "stream",
          "text": [
            "[nltk_data] Downloading package stopwords to /root/nltk_data...\n",
            "[nltk_data]   Package stopwords is already up-to-date!\n"
          ],
          "name": "stderr"
        },
        {
          "output_type": "execute_result",
          "data": {
            "text/html": [
              "<div>\n",
              "<style scoped>\n",
              "    .dataframe tbody tr th:only-of-type {\n",
              "        vertical-align: middle;\n",
              "    }\n",
              "\n",
              "    .dataframe tbody tr th {\n",
              "        vertical-align: top;\n",
              "    }\n",
              "\n",
              "    .dataframe thead th {\n",
              "        text-align: right;\n",
              "    }\n",
              "</style>\n",
              "<table border=\"1\" class=\"dataframe\">\n",
              "  <thead>\n",
              "    <tr style=\"text-align: right;\">\n",
              "      <th></th>\n",
              "      <th>title</th>\n",
              "      <th>date</th>\n",
              "      <th>Var</th>\n",
              "      <th>var-dolar</th>\n",
              "    </tr>\n",
              "  </thead>\n",
              "  <tbody>\n",
              "    <tr>\n",
              "      <th>0</th>\n",
              "      <td>Dólar</td>\n",
              "      <td>2021-02-26</td>\n",
              "      <td>1.23</td>\n",
              "      <td>0</td>\n",
              "    </tr>\n",
              "    <tr>\n",
              "      <th>1</th>\n",
              "      <td>Ibovespa sobe  atenção  resultados  empresas  ...</td>\n",
              "      <td>2021-02-26</td>\n",
              "      <td>1.23</td>\n",
              "      <td>0</td>\n",
              "    </tr>\n",
              "    <tr>\n",
              "      <th>2</th>\n",
              "      <td>Ibovespa fecha  queda  4,4%  mês  meio  preocu...</td>\n",
              "      <td>2021-02-26</td>\n",
              "      <td>1.23</td>\n",
              "      <td>0</td>\n",
              "    </tr>\n",
              "    <tr>\n",
              "      <th>3</th>\n",
              "      <td>Ibovespa Futuro sobe descolado  exterior  inve...</td>\n",
              "      <td>2021-02-26</td>\n",
              "      <td>1.23</td>\n",
              "      <td>0</td>\n",
              "    </tr>\n",
              "    <tr>\n",
              "      <th>4</th>\n",
              "      <td>Banco Central registra lucro  R$ 469 bilhões  ...</td>\n",
              "      <td>2021-02-26</td>\n",
              "      <td>1.23</td>\n",
              "      <td>0</td>\n",
              "    </tr>\n",
              "    <tr>\n",
              "      <th>5</th>\n",
              "      <td>Dólar</td>\n",
              "      <td>2020-12-03</td>\n",
              "      <td>-1.26</td>\n",
              "      <td>1</td>\n",
              "    </tr>\n",
              "    <tr>\n",
              "      <th>6</th>\n",
              "      <td>Teoria  ciclo baixista  dólar  mercado global ...</td>\n",
              "      <td>2020-12-03</td>\n",
              "      <td>-1.26</td>\n",
              "      <td>1</td>\n",
              "    </tr>\n",
              "    <tr>\n",
              "      <th>7</th>\n",
              "      <td>Ibovespa sobe  investidores atentos  PIB, vaci...</td>\n",
              "      <td>2020-12-03</td>\n",
              "      <td>-1.26</td>\n",
              "      <td>1</td>\n",
              "    </tr>\n",
              "    <tr>\n",
              "      <th>8</th>\n",
              "      <td>Ibovespa fecha  leve alta,  ganhos  limitados ...</td>\n",
              "      <td>2020-12-03</td>\n",
              "      <td>-1.26</td>\n",
              "      <td>1</td>\n",
              "    </tr>\n",
              "    <tr>\n",
              "      <th>9</th>\n",
              "      <td>Disparam encomendas  robô brasileiro  alimenta...</td>\n",
              "      <td>2020-12-03</td>\n",
              "      <td>-1.26</td>\n",
              "      <td>1</td>\n",
              "    </tr>\n",
              "  </tbody>\n",
              "</table>\n",
              "</div>"
            ],
            "text/plain": [
              "                                               title  ... var-dolar\n",
              "0                                              Dólar  ...         0\n",
              "1  Ibovespa sobe  atenção  resultados  empresas  ...  ...         0\n",
              "2  Ibovespa fecha  queda  4,4%  mês  meio  preocu...  ...         0\n",
              "3  Ibovespa Futuro sobe descolado  exterior  inve...  ...         0\n",
              "4  Banco Central registra lucro  R$ 469 bilhões  ...  ...         0\n",
              "5                                              Dólar  ...         1\n",
              "6  Teoria  ciclo baixista  dólar  mercado global ...  ...         1\n",
              "7  Ibovespa sobe  investidores atentos  PIB, vaci...  ...         1\n",
              "8  Ibovespa fecha  leve alta,  ganhos  limitados ...  ...         1\n",
              "9  Disparam encomendas  robô brasileiro  alimenta...  ...         1\n",
              "\n",
              "[10 rows x 4 columns]"
            ]
          },
          "metadata": {
            "tags": []
          },
          "execution_count": 10
        }
      ]
    },
    {
      "cell_type": "code",
      "metadata": {
        "id": "xhVDFJ6k_oOp",
        "colab": {
          "base_uri": "https://localhost:8080/"
        },
        "outputId": "8586477e-0866-4997-bd15-e41efcdc4109"
      },
      "source": [
        "pd_merge_media.shape"
      ],
      "execution_count": null,
      "outputs": [
        {
          "output_type": "execute_result",
          "data": {
            "text/plain": [
              "(227, 4)"
            ]
          },
          "metadata": {
            "tags": []
          },
          "execution_count": 11
        }
      ]
    },
    {
      "cell_type": "markdown",
      "metadata": {
        "id": "b4VIil62F5zD"
      },
      "source": [
        "Definindo Features\n"
      ]
    },
    {
      "cell_type": "code",
      "metadata": {
        "id": "_asEMtuXFZEE"
      },
      "source": [
        "X = pd_merge_media['title']\n",
        "y = pd_merge_media['var-dolar']"
      ],
      "execution_count": null,
      "outputs": []
    },
    {
      "cell_type": "code",
      "metadata": {
        "id": "DR8wNtl6F3WK",
        "colab": {
          "base_uri": "https://localhost:8080/"
        },
        "outputId": "8bee23e4-10c4-48c2-fcc4-4226eaae11bd"
      },
      "source": [
        "X_train, X_test, y_train, y_test = train_test_split(X, y, random_state = 42)\n",
        "print('tamanho do X_train: ', X_train.shape, '\\t', 'tamanho do y_train: ', y_train.shape)\n",
        "print('---------------------------------------------------------------------------')\n",
        "print('tamanho do X_test: ', X_test.shape, '\\t', 'tamanho do y_test: ', y_test.shape)"
      ],
      "execution_count": null,
      "outputs": [
        {
          "output_type": "stream",
          "text": [
            "tamanho do X_train:  (170,) \t tamanho do y_train:  (170,)\n",
            "---------------------------------------------------------------------------\n",
            "tamanho do X_test:  (57,) \t tamanho do y_test:  (57,)\n"
          ],
          "name": "stdout"
        }
      ]
    },
    {
      "cell_type": "markdown",
      "metadata": {
        "id": "IX6wboWSGXH-"
      },
      "source": [
        "Criando modelos"
      ]
    },
    {
      "cell_type": "code",
      "metadata": {
        "id": "wI7dDFWSGaW3"
      },
      "source": [
        "\n",
        "\n",
        "multinomial_clf = Pipeline([('cv', CountVectorizer(ngram_range=(1, 2))),                            \n",
        "                     ('clf', MultinomialNB())])\n",
        "\n",
        "complement_clf = Pipeline([('cv', CountVectorizer(ngram_range=(1, 2))),\n",
        "                     ('clf', ComplementNB())])\n",
        "\n",
        "svm_clf = Pipeline([('cv', CountVectorizer(ngram_range=(1, 2))),\n",
        "                     ('clf', svm.SVC(kernel = 'linear'))])"
      ],
      "execution_count": null,
      "outputs": []
    },
    {
      "cell_type": "code",
      "metadata": {
        "id": "MzsMRZwIGdrY",
        "colab": {
          "base_uri": "https://localhost:8080/"
        },
        "outputId": "fa8293f3-08f3-4ee3-9f14-7bb130ca0759"
      },
      "source": [
        "\n",
        "multinomial_clf.fit(X_train, y_train)\n",
        "complement_clf.fit(X_train, y_train)\n",
        "svm_clf.fit(X_train, y_train)"
      ],
      "execution_count": null,
      "outputs": [
        {
          "output_type": "execute_result",
          "data": {
            "text/plain": [
              "Pipeline(memory=None,\n",
              "         steps=[('cv',\n",
              "                 CountVectorizer(analyzer='word', binary=False,\n",
              "                                 decode_error='strict',\n",
              "                                 dtype=<class 'numpy.int64'>, encoding='utf-8',\n",
              "                                 input='content', lowercase=True, max_df=1.0,\n",
              "                                 max_features=None, min_df=1,\n",
              "                                 ngram_range=(1, 2), preprocessor=None,\n",
              "                                 stop_words=None, strip_accents=None,\n",
              "                                 token_pattern='(?u)\\\\b\\\\w\\\\w+\\\\b',\n",
              "                                 tokenizer=None, vocabulary=None)),\n",
              "                ('clf',\n",
              "                 SVC(C=1.0, break_ties=False, cache_size=200, class_weight=None,\n",
              "                     coef0=0.0, decision_function_shape='ovr', degree=3,\n",
              "                     gamma='scale', kernel='linear', max_iter=-1,\n",
              "                     probability=False, random_state=None, shrinking=True,\n",
              "                     tol=0.001, verbose=False))],\n",
              "         verbose=False)"
            ]
          },
          "metadata": {
            "tags": []
          },
          "execution_count": 15
        }
      ]
    },
    {
      "cell_type": "code",
      "metadata": {
        "id": "RIeiOHtcGiPE"
      },
      "source": [
        "pred_mult = multinomial_clf.predict(X_test)\n",
        "pred_complement = complement_clf.predict(X_test)\n",
        "pred_svm = svm_clf.predict(X_test)\n",
        "\n"
      ],
      "execution_count": null,
      "outputs": []
    },
    {
      "cell_type": "code",
      "metadata": {
        "id": "_iToFZy8GlKe",
        "colab": {
          "base_uri": "https://localhost:8080/"
        },
        "outputId": "1e08dab3-de42-4020-bf86-00165618b0c7"
      },
      "source": [
        "print('MultinomialNB Score:', str(round(f1_score(pred_mult, y_test), 4) * 100)+'%')\n",
        "print('ComplementNB Score:', str(round(f1_score(pred_complement, y_test), 4) * 100)+'%')\n",
        "print('SVM Score:', str(round(f1_score(pred_svm, y_test), 4) * 100)+'%')"
      ],
      "execution_count": null,
      "outputs": [
        {
          "output_type": "stream",
          "text": [
            "MultinomialNB Score: 57.14%\n",
            "ComplementNB Score: 64.71000000000001%\n",
            "SVM Score: 62.07%\n"
          ],
          "name": "stdout"
        }
      ]
    },
    {
      "cell_type": "markdown",
      "metadata": {
        "id": "f-5zLA1JZ_WH"
      },
      "source": [
        "Mosta matriz de confusão"
      ]
    },
    {
      "cell_type": "code",
      "metadata": {
        "id": "OrZPIcO7GsSR",
        "colab": {
          "base_uri": "https://localhost:8080/",
          "height": 281
        },
        "outputId": "cc49b81a-38f0-4c68-c470-636aaaf120d9"
      },
      "source": [
        "sns.heatmap(confusion_matrix(y_test, pred_complement), annot = True, fmt = '.2f')\n",
        "plt.title('MultinomialNB')\n",
        "plt.show()"
      ],
      "execution_count": null,
      "outputs": [
        {
          "output_type": "display_data",
          "data": {
            "image/png": "[encoded data removed]",
            "text/plain": [
              "<Figure size 432x288 with 2 Axes>"
            ]
          },
          "metadata": {
            "tags": [],
            "needs_background": "light"
          }
        }
      ]
    },
    {
      "cell_type": "code",
      "metadata": {
        "id": "RpUcCPswGyz6",
        "colab": {
          "base_uri": "https://localhost:8080/"
        },
        "outputId": "cce91a86-9af5-48cf-d60a-e93e61c78f94"
      },
      "source": [
        "print(classification_report(y_test, pred_complement, digits = 3))"
      ],
      "execution_count": null,
      "outputs": [
        {
          "output_type": "stream",
          "text": [
            "              precision    recall  f1-score   support\n",
            "\n",
            "           0      0.850     0.850     0.850        40\n",
            "           1      0.647     0.647     0.647        17\n",
            "\n",
            "    accuracy                          0.789        57\n",
            "   macro avg      0.749     0.749     0.749        57\n",
            "weighted avg      0.789     0.789     0.789        57\n",
            "\n"
          ],
          "name": "stdout"
        }
      ]
    },
    {
      "cell_type": "code",
      "metadata": {
        "id": "Y4mGJ2O3G-Ha",
        "colab": {
          "base_uri": "https://localhost:8080/"
        },
        "outputId": "a17b31bf-bfce-4d64-c108-c3422621feda"
      },
      "source": [
        "teste = [\"dólar tem maior baixa semanal em 9 meses \"]\n",
        "\n",
        "val_pred = multinomial_clf.predict(teste)\n",
        "val_pred"
      ],
      "execution_count": null,
      "outputs": [
        {
          "output_type": "execute_result",
          "data": {
            "text/plain": [
              "array([0])"
            ]
          },
          "metadata": {
            "tags": []
          },
          "execution_count": 20
        }
      ]
    },
    {
      "cell_type": "markdown",
      "metadata": {
        "id": "OLWZXtHVaUaM"
      },
      "source": [
        "Importar as noticias "
      ]
    },
    {
      "cell_type": "code",
      "metadata": {
        "id": "uMdiumiiZcxv",
        "colab": {
          "base_uri": "https://localhost:8080/"
        },
        "outputId": "58aa3d70-b7c9-4234-e732-faf074932c02"
      },
      "source": [
        "import tweepy\n",
        "import re\n",
        "from nltk.tokenize import sent_tokenize, word_tokenize \n",
        "\n",
        "consumer_key = '<chave de acesso>'\n",
        "consumer_secret = '<senha de acesso do tweet>'\n",
        "access_token = '<token de acesso>'\n",
        "access_token_secret = '< senha do token>'\n",
        "\n",
        "auth = tweepy.OAuthHandler(consumer_key, consumer_secret)\n",
        "auth.set_access_token(access_token, access_token_secret)\n",
        "api = tweepy.API(auth)  \n",
        "nltk.download('punkt')\n",
        "nltk.download('stopwords')\n",
        "\n",
        "stopwords = nltk.corpus.stopwords.words('portuguese')\n",
        "tweets_text = []\n",
        "public_tweets = api.search('dolar lang:pt (from:InvestingBrasil OR from:valoreconomico OR from:UOLEconomia)',count =30)\n",
        "for tweet in public_tweets:\n",
        "        tweet_tnk_date = []\n",
        "        dt_obj  = \"\"\n",
        "        without_url = re.sub(r'http\\S+', \"\", tweet.text)\n",
        "        without_url =re.sub(u'[^a-zA-Z0-9áéíóúÁÉÍÓÚâêîôÂÊÎÔãõÃÕçÇ: ]', '', without_url).lower()\n",
        "        tokens = word_tokenize(without_url)\n",
        "        filtered_sentence = [w for w in tokens if not w in stopwords]  \n",
        "        if(datetime.now() - tweet.created_at ).days <3:\n",
        "                tweet_token = []\n",
        "                tweet_token.append(without_url)\n",
        "                tweet_token.append(tweet.created_at)\n",
        "                tweets_text.append(tweet_token)\n",
        "\n"
      ],
      "execution_count": null,
      "outputs": [
        {
          "output_type": "stream",
          "text": [
            "[nltk_data] Downloading package punkt to /root/nltk_data...\n",
            "[nltk_data]   Unzipping tokenizers/punkt.zip.\n",
            "[nltk_data] Downloading package stopwords to /root/nltk_data...\n",
            "[nltk_data]   Package stopwords is already up-to-date!\n"
          ],
          "name": "stderr"
        }
      ]
    },
    {
      "cell_type": "code",
      "metadata": {
        "id": "SkJJ8w5AAVzS",
        "colab": {
          "base_uri": "https://localhost:8080/",
          "height": 607
        },
        "outputId": "4e3fc678-602a-4ef9-da40-901278c6e3fd"
      },
      "source": [
        " panda_tweet = pd.DataFrame(tweets_text)\n",
        " panda_tweet.rename(columns = {0: \"conteudo\"},inplace=True)\n",
        " panda_tweet.rename(columns = {1: \"date\"},inplace=True)\n",
        " panda_tweet['date'] = panda_tweet['date'].dt.normalize()\n",
        " panda_tweet\n"
      ],
      "execution_count": null,
      "outputs": [
        {
          "output_type": "execute_result",
          "data": {
            "text/html": [
              "<div>\n",
              "<style scoped>\n",
              "    .dataframe tbody tr th:only-of-type {\n",
              "        vertical-align: middle;\n",
              "    }\n",
              "\n",
              "    .dataframe tbody tr th {\n",
              "        vertical-align: top;\n",
              "    }\n",
              "\n",
              "    .dataframe thead th {\n",
              "        text-align: right;\n",
              "    }\n",
              "</style>\n",
              "<table border=\"1\" class=\"dataframe\">\n",
              "  <thead>\n",
              "    <tr style=\"text-align: right;\">\n",
              "      <th></th>\n",
              "      <th>conteudo</th>\n",
              "      <th>date</th>\n",
              "    </tr>\n",
              "  </thead>\n",
              "  <tbody>\n",
              "    <tr>\n",
              "      <th>0</th>\n",
              "      <td>dólar cai investidores repensam comércio de re...</td>\n",
              "      <td>2021-04-08</td>\n",
              "    </tr>\n",
              "    <tr>\n",
              "      <th>1</th>\n",
              "      <td>dólar cai 123 e fecha a r 5574 menor valor em ...</td>\n",
              "      <td>2021-04-08</td>\n",
              "    </tr>\n",
              "    <tr>\n",
              "      <th>2</th>\n",
              "      <td>ouro ultrapassa us 1750 mercado espera rendime...</td>\n",
              "      <td>2021-04-08</td>\n",
              "    </tr>\n",
              "    <tr>\n",
              "      <th>3</th>\n",
              "      <td>btg pactual vê dólar a r640 no fim do ano em c...</td>\n",
              "      <td>2021-04-08</td>\n",
              "    </tr>\n",
              "    <tr>\n",
              "      <th>4</th>\n",
              "      <td>dólar cai por otimismo externo alívio segue fr...</td>\n",
              "      <td>2021-04-08</td>\n",
              "    </tr>\n",
              "    <tr>\n",
              "      <th>5</th>\n",
              "      <td>dólar tem queda de 067 vendido a r 5606 acompa...</td>\n",
              "      <td>2021-04-08</td>\n",
              "    </tr>\n",
              "    <tr>\n",
              "      <th>6</th>\n",
              "      <td>dólar abandona queda e fecha em alta com decla...</td>\n",
              "      <td>2021-04-07</td>\n",
              "    </tr>\n",
              "    <tr>\n",
              "      <th>7</th>\n",
              "      <td>dólar deve quebrar sequência de perdas de dois...</td>\n",
              "      <td>2021-04-07</td>\n",
              "    </tr>\n",
              "    <tr>\n",
              "      <th>8</th>\n",
              "      <td>fala de bolsonaro sobre petrobras pressiona e ...</td>\n",
              "      <td>2021-04-07</td>\n",
              "    </tr>\n",
              "    <tr>\n",
              "      <th>9</th>\n",
              "      <td>dólar fecha em alta de 078 cotado a r 56434</td>\n",
              "      <td>2021-04-07</td>\n",
              "    </tr>\n",
              "    <tr>\n",
              "      <th>10</th>\n",
              "      <td>intervenções agressivas e persistentes levaria...</td>\n",
              "      <td>2021-04-07</td>\n",
              "    </tr>\n",
              "    <tr>\n",
              "      <th>11</th>\n",
              "      <td>dólar opera quase estável vendido a r 5595 siga</td>\n",
              "      <td>2021-04-07</td>\n",
              "    </tr>\n",
              "    <tr>\n",
              "      <th>12</th>\n",
              "      <td>juros sobem na contramão da queda do dólar e d...</td>\n",
              "      <td>2021-04-06</td>\n",
              "    </tr>\n",
              "    <tr>\n",
              "      <th>13</th>\n",
              "      <td>dólar vai  mínima em duas semanas com otimismo...</td>\n",
              "      <td>2021-04-06</td>\n",
              "    </tr>\n",
              "    <tr>\n",
              "      <th>14</th>\n",
              "      <td>ouro flerta com us 1750 com recuo de rendiment...</td>\n",
              "      <td>2021-04-06</td>\n",
              "    </tr>\n",
              "    <tr>\n",
              "      <th>15</th>\n",
              "      <td>com clima geral positivo dólar fecha em queda ...</td>\n",
              "      <td>2021-04-06</td>\n",
              "    </tr>\n",
              "    <tr>\n",
              "      <th>16</th>\n",
              "      <td>dólar cai com clima externo melhor mas sem tir...</td>\n",
              "      <td>2021-04-06</td>\n",
              "    </tr>\n",
              "    <tr>\n",
              "      <th>17</th>\n",
              "      <td>dólar opera em queda de 066 vendido a r 5642 s...</td>\n",
              "      <td>2021-04-06</td>\n",
              "    </tr>\n",
              "  </tbody>\n",
              "</table>\n",
              "</div>"
            ],
            "text/plain": [
              "                                             conteudo       date\n",
              "0   dólar cai investidores repensam comércio de re... 2021-04-08\n",
              "1   dólar cai 123 e fecha a r 5574 menor valor em ... 2021-04-08\n",
              "2   ouro ultrapassa us 1750 mercado espera rendime... 2021-04-08\n",
              "3   btg pactual vê dólar a r640 no fim do ano em c... 2021-04-08\n",
              "4   dólar cai por otimismo externo alívio segue fr... 2021-04-08\n",
              "5   dólar tem queda de 067 vendido a r 5606 acompa... 2021-04-08\n",
              "6   dólar abandona queda e fecha em alta com decla... 2021-04-07\n",
              "7   dólar deve quebrar sequência de perdas de dois... 2021-04-07\n",
              "8   fala de bolsonaro sobre petrobras pressiona e ... 2021-04-07\n",
              "9        dólar fecha em alta de 078 cotado a r 56434  2021-04-07\n",
              "10  intervenções agressivas e persistentes levaria... 2021-04-07\n",
              "11   dólar opera quase estável vendido a r 5595 siga  2021-04-07\n",
              "12  juros sobem na contramão da queda do dólar e d... 2021-04-06\n",
              "13  dólar vai  mínima em duas semanas com otimismo... 2021-04-06\n",
              "14  ouro flerta com us 1750 com recuo de rendiment... 2021-04-06\n",
              "15  com clima geral positivo dólar fecha em queda ... 2021-04-06\n",
              "16  dólar cai com clima externo melhor mas sem tir... 2021-04-06\n",
              "17  dólar opera em queda de 066 vendido a r 5642 s... 2021-04-06"
            ]
          },
          "metadata": {
            "tags": []
          },
          "execution_count": 22
        }
      ]
    },
    {
      "cell_type": "code",
      "metadata": {
        "id": "Fum5Fo8XCW4U",
        "colab": {
          "base_uri": "https://localhost:8080/",
          "height": 35
        },
        "outputId": "263e2a13-b327-44d1-d83f-6f5a91c7cd92"
      },
      "source": [
        "val_pred = multinomial_clf.predict(panda_tweet['conteudo'])\n",
        "val_pred\n",
        "\n",
        "import json\n",
        "a = np.array(val_pred).tolist()\n",
        "json_x = json.dumps({\"prediction\": a})\n",
        "json_x"
      ],
      "execution_count": null,
      "outputs": [
        {
          "output_type": "execute_result",
          "data": {
            "application/vnd.google.colaboratory.intrinsic+json": {
              "type": "string"
            },
            "text/plain": [
              "'{\"prediction\": [1, 1, 0, 1, 0, 0, 1, 0, 0, 1, 0, 0, 0, 0, 0, 1, 1, 0]}'"
            ]
          },
          "metadata": {
            "tags": []
          },
          "execution_count": 23
        }
      ]
    },
    {
      "cell_type": "code",
      "metadata": {
        "id": "AguvM8rM-0J5",
        "colab": {
          "base_uri": "https://localhost:8080/"
        },
        "outputId": "35dfac05-ad50-44f6-c91d-1d74778d1eae"
      },
      "source": [
        "json_x\n",
        "jobj = json.loads(json_x)\n",
        "list = jobj['prediction']\n",
        "cont_dolar_alto = 0\n",
        "# list = []\n",
        "print(len(list))\n",
        "\n",
        "for predict in list:\n",
        "  if predict != 1:\n",
        "    cont_dolar_alto += 1\n",
        "if len(list) == cont_dolar_alto and  len(list) > 0:\n",
        "  print(\"As noticias estão apontando para aumento do dolar de \"+str(cont_dolar_alto)+\" notícias \")\n",
        "elif cont_dolar_alto == 0 and len(list) > 0:\n",
        "  print(\"Dolar estão apontando para baixa do dolar\")\n",
        "elif cont_dolar_alto > 0 and len(list) > 0:\n",
        "  print(str(cont_dolar_alto)+\" de \"+str(len(list))+\" notícias estão apontando aumento do dolar\")\n",
        "elif len(list) == 0:\n",
        "  print(\"Não foi encontrado noticias de dolar hoje\")\n",
        "  # if cont_dolar_alto == 0 and len(list) > 0:\n",
        "  #   print(\"Dolar estão apontando para baixa do dolar\")\n",
        "  # else:\n",
        "  #   print(str(cont_dolar_alto)+\" de \"+str(len(list))+\" notícias estão apontando aumento do dolar\")\n",
        "\n"
      ],
      "execution_count": null,
      "outputs": [
        {
          "output_type": "stream",
          "text": [
            "18\n",
            "11 de 18 notícias estão apontando aumento do dolar\n"
          ],
          "name": "stdout"
        }
      ]
    },
    {
      "cell_type": "code",
      "metadata": {
        "id": "1j571nUP9fIV",
        "colab": {
          "base_uri": "https://localhost:8080/",
          "height": 129
        },
        "outputId": "8567a02c-8662-4262-95de-ccc633329664"
      },
      "source": [
        "fpr, tpr, treshold = roc_curve(y_test, pred_mult)\n",
        "roc_auc = auc(fpr, tpr)\n",
        "\n",
        "fpr_comp, tpr_comp, treshold = roc_curve(y_test, pred_complement)\n",
        "roc_auc_compl = auc(fpr, tpr)\n",
        "\n",
        "fpr_svm, tpr_svm, treshold = roc_curve(y_test, pred_svm)\n",
        "roc_auc_svm = auc(fpr, tpr)\n",
        "\n",
        "\n",
        "# pred_mult = multinomial_clf.predict(X_test)\n",
        "# pred_complement = complement_clf.predict(X_test)\n",
        "# pred_svm = svm_clf.predict(X_test)\n",
        "\n",
        "plt.plot(fpr, tpr, 'b', label = 'AUC = %0.2f' % roc_auc)\n",
        "plt.plot(fpr_comp, tpr_comp, 'r', label = 'Comp = %0.2f' % roc_auc_compl)\n",
        "plt.plot(fpr_svm, tpr_svm, 'y', label = 'SVM\n",
        " = %0.2f' % roc_auc_compl)\n",
        "\n",
        "plt.legend(loc = 'lower right')\n",
        "plt.plot([0, 1], [0, 1],'r--')\n",
        "plt.xlim([0, 1])\n",
        "plt.ylim([0, 1])\n",
        "plt.ylabel('Taxa de verdadeiro positivo')\n",
        "plt.xlabel('Taxa de falso positivo')\n",
        "plt.show()"
      ],
      "execution_count": null,
      "outputs": [
        {
          "output_type": "error",
          "ename": "SyntaxError",
          "evalue": "ignored",
          "traceback": [
            "\u001b[0;36m  File \u001b[0;32m\"<ipython-input-25-d7422bf1ace4>\"\u001b[0;36m, line \u001b[0;32m17\u001b[0m\n\u001b[0;31m    plt.plot(fpr_svm, tpr_svm, 'y', label = 'SVM\u001b[0m\n\u001b[0m                                                ^\u001b[0m\n\u001b[0;31mSyntaxError\u001b[0m\u001b[0;31m:\u001b[0m EOL while scanning string literal\n"
          ]
        }
      ]
    }
  ]
}